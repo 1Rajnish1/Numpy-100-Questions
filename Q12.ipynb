{
 "cells": [
  {
   "cell_type": "code",
   "execution_count": 15,
   "id": "b3b3b44a",
   "metadata": {},
   "outputs": [
    {
     "name": "stdout",
     "output_type": "stream",
     "text": [
      "[[0.54176396 0.34898801 0.47591968]\n",
      " [0.19722606 0.07815905 0.75510303]\n",
      " [0.0026937  0.6163657  0.76786457]]\n"
     ]
    }
   ],
   "source": [
    "#12. Create a 3x3x3 array with random values\n",
    "\n",
    "import numpy as np\n",
    "\n",
    "\n",
    "my_matrix = np.random.rand(3,3)\n",
    "\n",
    "print(my_matrix)\n"
   ]
  },
  {
   "cell_type": "code",
   "execution_count": null,
   "id": "5e0124fa",
   "metadata": {},
   "outputs": [],
   "source": []
  }
 ],
 "metadata": {
  "kernelspec": {
   "display_name": "Python 3 (ipykernel)",
   "language": "python",
   "name": "python3"
  },
  "language_info": {
   "codemirror_mode": {
    "name": "ipython",
    "version": 3
   },
   "file_extension": ".py",
   "mimetype": "text/x-python",
   "name": "python",
   "nbconvert_exporter": "python",
   "pygments_lexer": "ipython3",
   "version": "3.10.9"
  }
 },
 "nbformat": 4,
 "nbformat_minor": 5
}
