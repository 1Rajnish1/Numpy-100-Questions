{
 "cells": [
  {
   "cell_type": "code",
   "execution_count": 7,
   "id": "ebae201e",
   "metadata": {},
   "outputs": [
    {
     "name": "stdout",
     "output_type": "stream",
     "text": [
      "Unique Rows:\n",
      "[[1 2 3]\n",
      " [4 5 6]\n",
      " [7 8 9]]\n"
     ]
    }
   ],
   "source": [
    "# 96. Given a two dimensional array, how to extract unique rows?\n",
    "\n",
    "import numpy as np\n",
    "\n",
    "array = np.array([[1, 2, 3],\n",
    "                  [4, 5, 6],\n",
    "                  [1, 2, 3],\n",
    "                  [7, 8, 9],\n",
    "                  [4, 5, 6]])\n",
    "\n",
    "unique_rows = np.unique(array, axis=0)\n",
    "\n",
    "print(\"Unique Rows:\")\n",
    "print(unique_rows)"
   ]
  },
  {
   "cell_type": "code",
   "execution_count": null,
   "id": "191dca84",
   "metadata": {},
   "outputs": [],
   "source": []
  }
 ],
 "metadata": {
  "kernelspec": {
   "display_name": "Python 3 (ipykernel)",
   "language": "python",
   "name": "python3"
  },
  "language_info": {
   "codemirror_mode": {
    "name": "ipython",
    "version": 3
   },
   "file_extension": ".py",
   "mimetype": "text/x-python",
   "name": "python",
   "nbconvert_exporter": "python",
   "pygments_lexer": "ipython3",
   "version": "3.10.9"
  }
 },
 "nbformat": 4,
 "nbformat_minor": 5
}
