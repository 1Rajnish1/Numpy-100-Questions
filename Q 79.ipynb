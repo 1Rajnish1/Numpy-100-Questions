{
 "cells": [
  {
   "cell_type": "code",
   "execution_count": 15,
   "id": "783dc563",
   "metadata": {},
   "outputs": [
    {
     "name": "stdout",
     "output_type": "stream",
     "text": [
      "Distances to lines:\n",
      "[[1.41421356 1.41421356 1.41421356]\n",
      " [1.41421356 1.41421356 1.41421356]\n",
      " [1.41421356 1.41421356 1.41421356]]\n"
     ]
    }
   ],
   "source": [
    "# 79. Consider 2 sets of points P0,P1 describing lines (2d) and a set of points P, \n",
    "#how to compute distance from each point j (P[j]) to each line i (P0[i],P1[i])?\n",
    "\n",
    "import numpy as np\n",
    "\n",
    "def point_to_line_distance(point, line_start, line_end):\n",
    "    AB = line_end - line_start\n",
    "    AP = point - line_start\n",
    "\n",
    "\n",
    "    cross_product = np.cross(AP, AB)\n",
    "    magnitude_AB = np.linalg.norm(AB)\n",
    "\n",
    "\n",
    "    distance = np.abs(cross_product) / magnitude_AB\n",
    "\n",
    "    return distance\n",
    "\n",
    "def compute_distances_to_lines(P, P0, P1):\n",
    "    num_points = len(P)\n",
    "    num_lines = len(P0)\n",
    "    \n",
    "    distances = np.zeros((num_points, num_lines))  # Initialize an array to store distances\n",
    "    \n",
    "    for i in range(num_points):\n",
    "        for j in range(num_lines):\n",
    "            distances[i, j] = point_to_line_distance(P[i], P0[j], P1[j])\n",
    "    \n",
    "    return distances\n",
    "\n",
    "P0 = np.array([[1, 1], [2, 2], [3, 3]])\n",
    "P1 = np.array([[4, 4], [5, 5], [6, 6]])\n",
    "P = np.array([[2, 4], [3, 5], [5, 3]])\n",
    "\n",
    "\n",
    "distances = compute_distances_to_lines(P, P0, P1)\n",
    "print(\"Distances to lines:\")\n",
    "print(distances)\n"
   ]
  },
  {
   "cell_type": "code",
   "execution_count": null,
   "id": "4e753724",
   "metadata": {},
   "outputs": [],
   "source": []
  }
 ],
 "metadata": {
  "kernelspec": {
   "display_name": "Python 3 (ipykernel)",
   "language": "python",
   "name": "python3"
  },
  "language_info": {
   "codemirror_mode": {
    "name": "ipython",
    "version": 3
   },
   "file_extension": ".py",
   "mimetype": "text/x-python",
   "name": "python",
   "nbconvert_exporter": "python",
   "pygments_lexer": "ipython3",
   "version": "3.10.9"
  }
 },
 "nbformat": 4,
 "nbformat_minor": 5
}
