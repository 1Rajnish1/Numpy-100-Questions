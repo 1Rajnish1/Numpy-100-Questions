{
 "cells": [
  {
   "cell_type": "code",
   "execution_count": null,
   "id": "c32d3f5f",
   "metadata": {},
   "outputs": [],
   "source": [
    "# 32. Is the following expressions true? \n",
    "\n",
    "np.sqrt(-1) == np.emath.sqrt(-1)\n",
    "\n"
   ]
  },
  {
   "cell_type": "code",
   "execution_count": null,
   "id": "daadbd3b",
   "metadata": {},
   "outputs": [],
   "source": [
    "False"
   ]
  }
 ],
 "metadata": {
  "kernelspec": {
   "display_name": "Python 3 (ipykernel)",
   "language": "python",
   "name": "python3"
  },
  "language_info": {
   "codemirror_mode": {
    "name": "ipython",
    "version": 3
   },
   "file_extension": ".py",
   "mimetype": "text/x-python",
   "name": "python",
   "nbconvert_exporter": "python",
   "pygments_lexer": "ipython3",
   "version": "3.10.9"
  }
 },
 "nbformat": 4,
 "nbformat_minor": 5
}
