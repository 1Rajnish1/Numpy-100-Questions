{
 "cells": [
  {
   "cell_type": "code",
   "execution_count": 13,
   "id": "210cdc62",
   "metadata": {},
   "outputs": [
    {
     "name": "stdout",
     "output_type": "stream",
     "text": [
      "Rows of A containing elements of each row of B:\n",
      "[[1 2 3]\n",
      " [2 3 1]]\n"
     ]
    }
   ],
   "source": [
    "# 93. Consider two arrays A and B of shape (8,3) and (2,2). How to find rows of A that contain \n",
    "#elements of each row of B regardless of the order of the elements in B?\n",
    "\n",
    "import numpy as np\n",
    "\n",
    "A = np.array([[1, 2, 3],\n",
    "              [2, 3, 1],\n",
    "              [4, 5, 6],\n",
    "              [7, 8, 9],\n",
    "              [9, 8, 7],\n",
    "              [11, 12, 13],\n",
    "              [13, 12, 11],\n",
    "              [14, 15, 16]])\n",
    "\n",
    "B = np.array([[1, 2],\n",
    "              [3, 2]])\n",
    "\n",
    "set_B = [frozenset(row) for row in B]\n",
    "\n",
    "result_rows = []\n",
    "for row_A in A:\n",
    "    set_row_A = set(row_A)\n",
    "    if all(set_b.issubset(set_row_A) for set_b in set_B):\n",
    "        result_rows.append(row_A)\n",
    "\n",
    "\n",
    "result_array = np.array(result_rows)\n",
    "\n",
    "\n",
    "print(\"Rows of A containing elements of each row of B:\")\n",
    "print(result_array)"
   ]
  },
  {
   "cell_type": "code",
   "execution_count": null,
   "id": "89e245ff",
   "metadata": {},
   "outputs": [],
   "source": []
  }
 ],
 "metadata": {
  "kernelspec": {
   "display_name": "Python 3 (ipykernel)",
   "language": "python",
   "name": "python3"
  },
  "language_info": {
   "codemirror_mode": {
    "name": "ipython",
    "version": 3
   },
   "file_extension": ".py",
   "mimetype": "text/x-python",
   "name": "python",
   "nbconvert_exporter": "python",
   "pygments_lexer": "ipython3",
   "version": "3.10.9"
  }
 },
 "nbformat": 4,
 "nbformat_minor": 5
}
