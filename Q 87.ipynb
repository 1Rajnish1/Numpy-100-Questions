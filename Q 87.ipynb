{
 "cells": [
  {
   "cell_type": "code",
   "execution_count": 9,
   "id": "b2f0fc5d",
   "metadata": {},
   "outputs": [
    {
     "name": "stdout",
     "output_type": "stream",
     "text": [
      "Block Sums:\n",
      "[[ 92  61  82  80]\n",
      " [ 80  68 104 110]\n",
      " [ 75  92  81  58]\n",
      " [ 75  86  79  71]]\n"
     ]
    }
   ],
   "source": [
    "# 87. Consider a 16x16 array, how to get the block-sum (block size is 4x4)?\n",
    "\n",
    "import numpy as np\n",
    "\n",
    "array = np.random.randint(1, 10, size=(16, 16))\n",
    "\n",
    "block_size = 4\n",
    "\n",
    "num_blocks_x = array.shape[0] // block_size\n",
    "num_blocks_y = array.shape[1] // block_size\n",
    "\n",
    "block_sums = np.empty((num_blocks_x, num_blocks_y), dtype=int)\n",
    "\n",
    "for i in range(num_blocks_x):\n",
    "    for j in range(num_blocks_y):\n",
    "        block = array[i * block_size:(i + 1) * block_size, j * block_size:(j + 1) * block_size]\n",
    "        block_sums[i, j] = np.sum(block)\n",
    "\n",
    "print(\"Block Sums:\")\n",
    "print(block_sums)\n"
   ]
  },
  {
   "cell_type": "code",
   "execution_count": null,
   "id": "5985e718",
   "metadata": {},
   "outputs": [],
   "source": []
  }
 ],
 "metadata": {
  "kernelspec": {
   "display_name": "Python 3 (ipykernel)",
   "language": "python",
   "name": "python3"
  },
  "language_info": {
   "codemirror_mode": {
    "name": "ipython",
    "version": 3
   },
   "file_extension": ".py",
   "mimetype": "text/x-python",
   "name": "python",
   "nbconvert_exporter": "python",
   "pygments_lexer": "ipython3",
   "version": "3.10.9"
  }
 },
 "nbformat": 4,
 "nbformat_minor": 5
}
