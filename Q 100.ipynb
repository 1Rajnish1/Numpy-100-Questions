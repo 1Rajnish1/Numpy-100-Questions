{
 "cells": [
  {
   "cell_type": "code",
   "execution_count": 8,
   "id": "316427c3",
   "metadata": {},
   "outputs": [
    {
     "name": "stdout",
     "output_type": "stream",
     "text": [
      "Bootstrapped 95% Confidence Interval for Mean:\n",
      "[15.395 22.405]\n"
     ]
    }
   ],
   "source": [
    "# 100. Compute bootstrapped 95% confidence intervals for the mean of a 1D array X \n",
    "#(i.e., resample the elements of an array with replacement N times, compute the mean of \n",
    "#each sample, and then compute percentiles over the means)\n",
    "\n",
    "import numpy as np\n",
    "\n",
    "X = np.array([10, 12, 14, 16, 18, 20, 22, 24, 26, 28])\n",
    "\n",
    "N = 1000\n",
    "\n",
    "bootstrap_means = np.empty(N)\n",
    "\n",
    "for i in range(N):\n",
    "  \n",
    "    resampled_data = np.random.choice(X, size=len(X), replace=True)\n",
    "    \n",
    " \n",
    "    bootstrap_means[i] = np.mean(resampled_data)\n",
    "\n",
    "\n",
    "confidence_interval = np.percentile(bootstrap_means, [2.5, 97.5])\n",
    "\n",
    "print(\"Bootstrapped 95% Confidence Interval for Mean:\")\n",
    "print(confidence_interval)"
   ]
  },
  {
   "cell_type": "code",
   "execution_count": null,
   "id": "d0a8ab31",
   "metadata": {},
   "outputs": [],
   "source": []
  }
 ],
 "metadata": {
  "kernelspec": {
   "display_name": "Python 3 (ipykernel)",
   "language": "python",
   "name": "python3"
  },
  "language_info": {
   "codemirror_mode": {
    "name": "ipython",
    "version": 3
   },
   "file_extension": ".py",
   "mimetype": "text/x-python",
   "name": "python",
   "nbconvert_exporter": "python",
   "pygments_lexer": "ipython3",
   "version": "3.10.9"
  }
 },
 "nbformat": 4,
 "nbformat_minor": 5
}
