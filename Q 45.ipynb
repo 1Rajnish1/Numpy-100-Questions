{
 "cells": [
  {
   "cell_type": "code",
   "execution_count": 6,
   "id": "f75b7668",
   "metadata": {},
   "outputs": [
    {
     "name": "stdout",
     "output_type": "stream",
     "text": [
      "[0.29362283 0.46710584 0.43092535 0.         0.3629552  0.53356368\n",
      " 0.02171714 0.14193555 0.71274791 0.42197309]\n"
     ]
    }
   ],
   "source": [
    "#45. Create random vector of size 10 and replace the maximum value by 0\n",
    "\n",
    "import numpy as np\n",
    "\n",
    "random_vector = np.random.rand(10)\n",
    "\n",
    "max_index = np.argmax(random_vector)\n",
    "\n",
    "random_vector[max_index] = 0\n",
    "\n",
    "print(random_vector)"
   ]
  },
  {
   "cell_type": "code",
   "execution_count": null,
   "id": "9e6c20de",
   "metadata": {},
   "outputs": [],
   "source": []
  }
 ],
 "metadata": {
  "kernelspec": {
   "display_name": "Python 3 (ipykernel)",
   "language": "python",
   "name": "python3"
  },
  "language_info": {
   "codemirror_mode": {
    "name": "ipython",
    "version": 3
   },
   "file_extension": ".py",
   "mimetype": "text/x-python",
   "name": "python",
   "nbconvert_exporter": "python",
   "pygments_lexer": "ipython3",
   "version": "3.10.9"
  }
 },
 "nbformat": 4,
 "nbformat_minor": 5
}
