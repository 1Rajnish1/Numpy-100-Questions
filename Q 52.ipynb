{
 "cells": [
  {
   "cell_type": "code",
   "execution_count": 4,
   "id": "813cda2e",
   "metadata": {},
   "outputs": [
    {
     "name": "stdout",
     "output_type": "stream",
     "text": [
      "[[0.         0.47361809 0.983349   ... 0.3654718  1.10915251 0.53374558]\n",
      " [0.47361809 0.         0.66979641 ... 0.27971156 0.71585743 0.61565176]\n",
      " [0.983349   0.66979641 0.         ... 0.61796691 0.23416826 0.65126874]\n",
      " ...\n",
      " [0.3654718  0.27971156 0.61796691 ... 0.         0.75166546 0.33924773]\n",
      " [1.10915251 0.71585743 0.23416826 ... 0.75166546 0.         0.85749347]\n",
      " [0.53374558 0.61565176 0.65126874 ... 0.33924773 0.85749347 0.        ]]\n"
     ]
    }
   ],
   "source": [
    "# 52. Consider a random vector with shape (100,2) representing coordinates,\n",
    "#find point by point distances\n",
    "\n",
    "import numpy as np\n",
    "from scipy.spatial import distance\n",
    "\n",
    "\n",
    "random_coordinates = np.random.rand(100, 2)\n",
    "\n",
    "distances = distance.cdist(random_coordinates, random_coordinates)\n",
    "\n",
    "print(distances)\n"
   ]
  },
  {
   "cell_type": "code",
   "execution_count": null,
   "id": "9416aed2",
   "metadata": {},
   "outputs": [],
   "source": []
  }
 ],
 "metadata": {
  "kernelspec": {
   "display_name": "Python 3 (ipykernel)",
   "language": "python",
   "name": "python3"
  },
  "language_info": {
   "codemirror_mode": {
    "name": "ipython",
    "version": 3
   },
   "file_extension": ".py",
   "mimetype": "text/x-python",
   "name": "python",
   "nbconvert_exporter": "python",
   "pygments_lexer": "ipython3",
   "version": "3.10.9"
  }
 },
 "nbformat": 4,
 "nbformat_minor": 5
}
