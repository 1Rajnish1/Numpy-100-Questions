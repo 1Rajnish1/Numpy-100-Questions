{
 "cells": [
  {
   "cell_type": "code",
   "execution_count": 4,
   "id": "21c40620",
   "metadata": {},
   "outputs": [
    {
     "name": "stdout",
     "output_type": "stream",
     "text": [
      "The 3 largest values are: [9 8 7]\n"
     ]
    }
   ],
   "source": [
    "# 89. How to get the n largest values of an array\n",
    "\n",
    "import numpy as np\n",
    "\n",
    "arr = np.array([4, 2, 9, 7, 5, 1, 8, 3, 6])\n",
    "\n",
    "n = 3\n",
    "\n",
    "n_largest_value = np.partition(arr, -n)[-n]\n",
    "\n",
    "n_largest_values = arr[arr >= n_largest_value]\n",
    "\n",
    "n_largest_values = np.sort(n_largest_values)[::-1]\n",
    "\n",
    "\n",
    "print(f\"The {n} largest values are:\", n_largest_values)"
   ]
  },
  {
   "cell_type": "code",
   "execution_count": null,
   "id": "2914df7a",
   "metadata": {},
   "outputs": [],
   "source": []
  }
 ],
 "metadata": {
  "kernelspec": {
   "display_name": "Python 3 (ipykernel)",
   "language": "python",
   "name": "python3"
  },
  "language_info": {
   "codemirror_mode": {
    "name": "ipython",
    "version": 3
   },
   "file_extension": ".py",
   "mimetype": "text/x-python",
   "name": "python",
   "nbconvert_exporter": "python",
   "pygments_lexer": "ipython3",
   "version": "3.10.9"
  }
 },
 "nbformat": 4,
 "nbformat_minor": 5
}
