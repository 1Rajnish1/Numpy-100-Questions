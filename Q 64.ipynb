{
 "cells": [
  {
   "cell_type": "code",
   "execution_count": 7,
   "id": "bdf09705",
   "metadata": {},
   "outputs": [
    {
     "name": "stdout",
     "output_type": "stream",
     "text": [
      "Updated Vector: [1 3 4 5 5]\n"
     ]
    }
   ],
   "source": [
    "# 64. Consider a given vector, how to add 1 to each element indexed by a second vector \n",
    "#be careful with repeated indices)?\n",
    "\n",
    "import numpy as np\n",
    "\n",
    "given_vector = np.array([1, 2, 3, 4, 5])\n",
    "\n",
    "index_vector = np.array([1, 3, 2, 1, 3])\n",
    "\n",
    "unique_indices = np.unique(index_vector)\n",
    "\n",
    "given_vector[unique_indices] += 1\n",
    "\n",
    "print(\"Updated Vector:\", given_vector)"
   ]
  },
  {
   "cell_type": "code",
   "execution_count": null,
   "id": "fea7ffdd",
   "metadata": {},
   "outputs": [],
   "source": []
  }
 ],
 "metadata": {
  "kernelspec": {
   "display_name": "Python 3 (ipykernel)",
   "language": "python",
   "name": "python3"
  },
  "language_info": {
   "codemirror_mode": {
    "name": "ipython",
    "version": 3
   },
   "file_extension": ".py",
   "mimetype": "text/x-python",
   "name": "python",
   "nbconvert_exporter": "python",
   "pygments_lexer": "ipython3",
   "version": "3.10.9"
  }
 },
 "nbformat": 4,
 "nbformat_minor": 5
}
