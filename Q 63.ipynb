{
 "cells": [
  {
   "cell_type": "code",
   "execution_count": 11,
   "id": "a3f5d722",
   "metadata": {},
   "outputs": [
    {
     "name": "stdout",
     "output_type": "stream",
     "text": [
      "Array: [1 2 3 4]\n",
      "Array Name: MyArray\n"
     ]
    }
   ],
   "source": [
    "# 63. Create an array class that has a name attribute\n",
    "\n",
    "import numpy as np\n",
    "\n",
    "class NamedArray(np.ndarray):\n",
    "    def __new__(cls, input_array, name=None):\n",
    "        obj = np.asarray(input_array).view(cls)\n",
    "        obj.name = name\n",
    "        return obj\n",
    "\n",
    "    def __array_finalize__(self, obj):\n",
    "        if obj is None:\n",
    "            return\n",
    "        self.name = getattr(obj, 'name', None)\n",
    "\n",
    "\n",
    "arr = NamedArray([1, 2, 3, 4], name='MyArray')\n",
    "\n",
    "print(\"Array:\", arr)\n",
    "print(\"Array Name:\", arr.name)"
   ]
  },
  {
   "cell_type": "code",
   "execution_count": null,
   "id": "76a88214",
   "metadata": {},
   "outputs": [],
   "source": []
  }
 ],
 "metadata": {
  "kernelspec": {
   "display_name": "Python 3 (ipykernel)",
   "language": "python",
   "name": "python3"
  },
  "language_info": {
   "codemirror_mode": {
    "name": "ipython",
    "version": 3
   },
   "file_extension": ".py",
   "mimetype": "text/x-python",
   "name": "python",
   "nbconvert_exporter": "python",
   "pygments_lexer": "ipython3",
   "version": "3.10.9"
  }
 },
 "nbformat": 4,
 "nbformat_minor": 5
}
