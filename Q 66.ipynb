{
 "cells": [
  {
   "cell_type": "code",
   "execution_count": 5,
   "id": "9d911cf7",
   "metadata": {},
   "outputs": [
    {
     "name": "stdout",
     "output_type": "stream",
     "text": [
      "Number of Unique Colors: 3\n"
     ]
    }
   ],
   "source": [
    "# 66. Considering a (w,h,3) image of (dtype=ubyte), compute the number of unique colors\n",
    "\n",
    "import numpy as np\n",
    "\n",
    "w, h = 3, 3\n",
    "image = np.array([[[255, 0, 0], [0, 255, 0], [0, 0, 255]],\n",
    "                  [[255, 0, 0], [0, 255, 0], [0, 0, 255]],\n",
    "                  [[255, 0, 0], [0, 255, 0], [0, 0, 255]]], dtype=np.ubyte)\n",
    "\n",
    "reshaped_image = image.reshape((-1, 3))\n",
    "\n",
    "unique_colors = list(map(tuple, reshaped_image))\n",
    "unique_colors = list(set(unique_colors))\n",
    "\n",
    "print(\"Number of Unique Colors:\", len(unique_colors))\n"
   ]
  },
  {
   "cell_type": "code",
   "execution_count": null,
   "id": "69f74761",
   "metadata": {},
   "outputs": [],
   "source": []
  }
 ],
 "metadata": {
  "kernelspec": {
   "display_name": "Python 3 (ipykernel)",
   "language": "python",
   "name": "python3"
  },
  "language_info": {
   "codemirror_mode": {
    "name": "ipython",
    "version": 3
   },
   "file_extension": ".py",
   "mimetype": "text/x-python",
   "name": "python",
   "nbconvert_exporter": "python",
   "pygments_lexer": "ipython3",
   "version": "3.10.9"
  }
 },
 "nbformat": 4,
 "nbformat_minor": 5
}
