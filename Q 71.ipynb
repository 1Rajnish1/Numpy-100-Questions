{
 "cells": [
  {
   "cell_type": "code",
   "execution_count": 10,
   "id": "1acda035",
   "metadata": {},
   "outputs": [
    {
     "name": "stdout",
     "output_type": "stream",
     "text": [
      "Result Shape: (5, 5, 3)\n"
     ]
    }
   ],
   "source": [
    "# 71. Consider an array of dimension (5,5,3), how to mulitply it by an array with dimensions (5,5)?\n",
    "\n",
    "import numpy as np\n",
    "\n",
    "array_3d = np.random.rand(5, 5, 3)\n",
    "\n",
    "array_2d = np.random.rand(5, 5)\n",
    "\n",
    "result = array_3d * array_2d[:,:,np.newaxis]\n",
    "\n",
    "print(\"Result Shape:\", result.shape)\n"
   ]
  },
  {
   "cell_type": "code",
   "execution_count": null,
   "id": "960cc5a0",
   "metadata": {},
   "outputs": [],
   "source": []
  },
  {
   "cell_type": "code",
   "execution_count": null,
   "id": "a5be6623",
   "metadata": {},
   "outputs": [],
   "source": []
  }
 ],
 "metadata": {
  "kernelspec": {
   "display_name": "Python 3 (ipykernel)",
   "language": "python",
   "name": "python3"
  },
  "language_info": {
   "codemirror_mode": {
    "name": "ipython",
    "version": 3
   },
   "file_extension": ".py",
   "mimetype": "text/x-python",
   "name": "python",
   "nbconvert_exporter": "python",
   "pygments_lexer": "ipython3",
   "version": "3.10.9"
  }
 },
 "nbformat": 4,
 "nbformat_minor": 5
}
