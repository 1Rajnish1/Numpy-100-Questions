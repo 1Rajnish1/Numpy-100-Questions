{
 "cells": [
  {
   "cell_type": "code",
   "execution_count": 10,
   "id": "fee10584",
   "metadata": {},
   "outputs": [
    {
     "name": "stdout",
     "output_type": "stream",
     "text": [
      "Record Array:\n",
      "[('1', 'Alice', '30') ('2', 'Bob', '25') ('3', 'Charlie', '35')]\n",
      "\n",
      "Accessing elements by field name:\n",
      "ID: ['1' '2' '3']\n",
      "Name: ['Alice' 'Bob' 'Charlie']\n",
      "Age: ['30' '25' '35']\n"
     ]
    }
   ],
   "source": [
    "# 91. How to create a record array from a regular array?\n",
    "\n",
    "import numpy as np\n",
    "\n",
    "\n",
    "regular_array = np.array([[1, 'Alice', 30],\n",
    "                          [2, 'Bob', 25],\n",
    "                          [3, 'Charlie', 35]])\n",
    "\n",
    "\n",
    "field_names = ['ID', 'Name', 'Age']\n",
    "\n",
    "record_array = np.rec.fromarrays(regular_array.T, names=field_names)\n",
    "\n",
    "\n",
    "print(\"Record Array:\")\n",
    "print(record_array)\n",
    "\n",
    "\n",
    "print(\"\\nAccessing elements by field name:\")\n",
    "print(\"ID:\", record_array['ID'])\n",
    "print(\"Name:\", record_array['Name'])\n",
    "print(\"Age:\", record_array['Age'])\n"
   ]
  },
  {
   "cell_type": "code",
   "execution_count": null,
   "id": "46135cb1",
   "metadata": {},
   "outputs": [],
   "source": []
  }
 ],
 "metadata": {
  "kernelspec": {
   "display_name": "Python 3 (ipykernel)",
   "language": "python",
   "name": "python3"
  },
  "language_info": {
   "codemirror_mode": {
    "name": "ipython",
    "version": 3
   },
   "file_extension": ".py",
   "mimetype": "text/x-python",
   "name": "python",
   "nbconvert_exporter": "python",
   "pygments_lexer": "ipython3",
   "version": "3.10.9"
  }
 },
 "nbformat": 4,
 "nbformat_minor": 5
}
