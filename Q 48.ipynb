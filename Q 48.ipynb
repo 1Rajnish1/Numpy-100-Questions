{
 "cells": [
  {
   "cell_type": "code",
   "execution_count": 23,
   "id": "eff5beb4",
   "metadata": {},
   "outputs": [
    {
     "name": "stdout",
     "output_type": "stream",
     "text": [
      "Integer Data Types:\n",
      "int8: Min=-128, Max=127\n",
      "int16: Min=-32768, Max=32767\n",
      "int32: Min=-2147483648, Max=2147483647\n",
      "int64: Min=-9223372036854775808, Max=9223372036854775807\n",
      "\n",
      "Unsigned Integer Data Types:\n",
      "uint8: Min=0, Max=255\n",
      "uint16: Min=0, Max=65535\n",
      "uint32: Min=0, Max=4294967295\n",
      "uint64: Min=0, Max=18446744073709551615\n",
      "\n",
      "Floating-Point Data Types:\n",
      "float16: Min=-65504.0, Max=65504.0\n",
      "float32: Min=-3.4028234663852886e+38, Max=3.4028234663852886e+38\n",
      "float64: Min=-1.7976931348623157e+308, Max=1.7976931348623157e+308\n"
     ]
    }
   ],
   "source": [
    "# 48. Print the minimum and maximum representable value for each numpy scalar type\n",
    "\n",
    "import numpy as np\n",
    "\n",
    "# Integer data types\n",
    "integer_types = [np.int8, np.int16, np.int32, np.int64]\n",
    "unsigned_integer_types = [np.uint8, np.uint16, np.uint32, np.uint64]\n",
    "\n",
    "print(\"Integer Data Types:\")\n",
    "for data_type in integer_types:\n",
    "    info = np.iinfo(data_type)\n",
    "    print(f\"{data_type.__name__}: Min={info.min}, Max={info.max}\")\n",
    "\n",
    "print(\"\\nUnsigned Integer Data Types:\")\n",
    "for data_type in unsigned_integer_types:\n",
    "    info = np.iinfo(data_type)\n",
    "    print(f\"{data_type.__name__}: Min={info.min}, Max={info.max}\")\n",
    "\n",
    "# Floating-point data types\n",
    "float_types = [np.float16, np.float32, np.float64]\n",
    "\n",
    "print(\"\\nFloating-Point Data Types:\")\n",
    "for data_type in float_types:\n",
    "    \n",
    "    info = np.finfo(data_type)\n",
    "    print(f\"{data_type.__name__}: Min={info.min}, Max={info.max}\")\n"
   ]
  },
  {
   "cell_type": "code",
   "execution_count": null,
   "id": "6a50c060",
   "metadata": {},
   "outputs": [],
   "source": []
  }
 ],
 "metadata": {
  "kernelspec": {
   "display_name": "Python 3 (ipykernel)",
   "language": "python",
   "name": "python3"
  },
  "language_info": {
   "codemirror_mode": {
    "name": "ipython",
    "version": 3
   },
   "file_extension": ".py",
   "mimetype": "text/x-python",
   "name": "python",
   "nbconvert_exporter": "python",
   "pygments_lexer": "ipython3",
   "version": "3.10.9"
  }
 },
 "nbformat": 4,
 "nbformat_minor": 5
}
