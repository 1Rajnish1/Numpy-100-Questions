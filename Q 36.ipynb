{
 "cells": [
  {
   "cell_type": "code",
   "execution_count": 5,
   "id": "47bc58e0",
   "metadata": {},
   "outputs": [
    {
     "name": "stdout",
     "output_type": "stream",
     "text": [
      "integer_part1:  [0, 9, 8, 0, 2, 5, 2, 5, 2, 4]\n",
      "integer_part2:  [0, 9, 8, 0, 2, 5, 2, 5, 2, 4]\n",
      "integer_part3:  [0 9 8 0 2 5 2 5 2 4]\n",
      "integer_part4:  [0, 0, 0, 0, 0, 0, 0, 0, 0, 0]\n"
     ]
    }
   ],
   "source": [
    "#36. Extract the integer part of a random array of positive numbers using 4 different methods\n",
    "\n",
    "import random\n",
    "import numpy as np\n",
    "import math\n",
    "\n",
    "# Generate a random array of positive numbers\n",
    "random_array = [random.uniform(0, 10) for _ in range(10)]\n",
    "\n",
    "# Extract the integer part using list comprehension and int()\n",
    "integer_part1 = [int(num) for num in random_array]\n",
    "integer_part2 = [math.floor(num) for num in random_array]\n",
    "integer_part3 = np.floor(random_array).astype(int)\n",
    "integer_part4 = [int(num % 1) for num in random_array]\n",
    "\n",
    "print(\"integer_part1: \",integer_part1)\n",
    "print(\"integer_part2: \",integer_part2)\n",
    "print(\"integer_part3: \",integer_part3)\n",
    "print(\"integer_part4: \",integer_part4)\n",
    "\n"
   ]
  },
  {
   "cell_type": "code",
   "execution_count": null,
   "id": "3c8d9f8e",
   "metadata": {},
   "outputs": [],
   "source": []
  }
 ],
 "metadata": {
  "kernelspec": {
   "display_name": "Python 3 (ipykernel)",
   "language": "python",
   "name": "python3"
  },
  "language_info": {
   "codemirror_mode": {
    "name": "ipython",
    "version": 3
   },
   "file_extension": ".py",
   "mimetype": "text/x-python",
   "name": "python",
   "nbconvert_exporter": "python",
   "pygments_lexer": "ipython3",
   "version": "3.10.9"
  }
 },
 "nbformat": 4,
 "nbformat_minor": 5
}
