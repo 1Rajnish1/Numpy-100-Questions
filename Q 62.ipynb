{
 "cells": [
  {
   "cell_type": "code",
   "execution_count": 5,
   "id": "fb202281",
   "metadata": {},
   "outputs": [
    {
     "name": "stdout",
     "output_type": "stream",
     "text": [
      "Sum of the arrays: 90\n"
     ]
    }
   ],
   "source": [
    "# 62. Considering two arrays with shape (1,3) and (3,1), how to compute their sum using an iterator?\n",
    "\n",
    "import numpy as np\n",
    "\n",
    "array1 = np.array([[1, 2, 3]])\n",
    "array2 = np.array([[4],\n",
    "                   [5],\n",
    "                   [6]])\n",
    "\n",
    "result = 0\n",
    "\n",
    "for i in range(array1.shape[1]):\n",
    "    for j in range(array2.shape[0]):\n",
    "        result += array1[0, i] * array2[j, 0]\n",
    "\n",
    "print(\"Sum of the arrays:\", result)\n"
   ]
  },
  {
   "cell_type": "code",
   "execution_count": null,
   "id": "b7215af2",
   "metadata": {},
   "outputs": [],
   "source": []
  }
 ],
 "metadata": {
  "kernelspec": {
   "display_name": "Python 3 (ipykernel)",
   "language": "python",
   "name": "python3"
  },
  "language_info": {
   "codemirror_mode": {
    "name": "ipython",
    "version": 3
   },
   "file_extension": ".py",
   "mimetype": "text/x-python",
   "name": "python",
   "nbconvert_exporter": "python",
   "pygments_lexer": "ipython3",
   "version": "3.10.9"
  }
 },
 "nbformat": 4,
 "nbformat_minor": 5
}
