{
 "cells": [
  {
   "cell_type": "code",
   "execution_count": 3,
   "id": "3dc19a89",
   "metadata": {},
   "outputs": [
    {
     "name": "stdout",
     "output_type": "stream",
     "text": [
      "Original Array Shape: (2, 3, 4, 5)\n",
      "Sum over Last Two Axes Shape: (2, 3)\n"
     ]
    }
   ],
   "source": [
    "# 67. Considering a four dimensions array, how to get sum over the last two axis at once?\n",
    "\n",
    "import numpy as np\n",
    "\n",
    "array = np.random.rand(2, 3, 4, 5)\n",
    "\n",
    "sum_over_last_two_axes = np.sum(array, axis=(-2, -1))\n",
    "\n",
    "\n",
    "print(\"Original Array Shape:\", array.shape)\n",
    "print(\"Sum over Last Two Axes Shape:\", sum_over_last_two_axes.shape)"
   ]
  },
  {
   "cell_type": "code",
   "execution_count": null,
   "id": "d7665586",
   "metadata": {},
   "outputs": [],
   "source": []
  }
 ],
 "metadata": {
  "kernelspec": {
   "display_name": "Python 3 (ipykernel)",
   "language": "python",
   "name": "python3"
  },
  "language_info": {
   "codemirror_mode": {
    "name": "ipython",
    "version": 3
   },
   "file_extension": ".py",
   "mimetype": "text/x-python",
   "name": "python",
   "nbconvert_exporter": "python",
   "pygments_lexer": "ipython3",
   "version": "3.10.9"
  }
 },
 "nbformat": 4,
 "nbformat_minor": 5
}
