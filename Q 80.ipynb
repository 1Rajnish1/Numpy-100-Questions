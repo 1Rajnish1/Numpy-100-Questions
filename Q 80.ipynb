{
 "cells": [
  {
   "cell_type": "code",
   "execution_count": 36,
   "id": "ac2510bd",
   "metadata": {},
   "outputs": [
    {
     "name": "stdout",
     "output_type": "stream",
     "text": [
      "Extracted Subpart:\n",
      "[[ 2  3  4]\n",
      " [ 7  8  9]\n",
      " [12 13 14]]\n"
     ]
    }
   ],
   "source": [
    "# 80. Consider an arbitrary array, write a function that extract a subpart with a fixed shape and centered on a given element \n",
    "#(pad with a `fill` value when necessary)\n",
    "\n",
    "import numpy as np\n",
    "\n",
    "def extract_centered_subpart(array, center, shape, fill_value=0):\n",
    "   \n",
    "    rows, cols = array.shape\n",
    "    row_center, col_center = center\n",
    "    row_half, col_half = shape[0] // 2, shape[1] // 2\n",
    "    \n",
    "    # Calculate the starting and ending row and column indices for the subpart\n",
    "    start_row = max(0, row_center - row_half)\n",
    "    end_row = min(rows, row_center + row_half + 1)\n",
    "    start_col = max(0, col_center - col_half)\n",
    "    end_col = min(cols, col_center + col_half + 1)\n",
    "    \n",
    "    # Create an empty subpart with the specified shape and fill it with fill_value\n",
    "    subpart = np.full(shape, fill_value, dtype=array.dtype)\n",
    "    \n",
    "    # Calculate the indices for copying data from the input array to the subpart\n",
    "    subpart_start_row = max(0, row_half - (row_center - start_row))\n",
    "    subpart_end_row = min(shape[0], shape[0] - (row_center + row_half - end_row))\n",
    "    subpart_start_col = max(0, col_half - (col_center - start_col))\n",
    "    subpart_end_col = min(shape[1], shape[1] - (col_center + col_half - end_col))\n",
    "    \n",
    "    # Copy data from the input array to the subpart\n",
    "    subpart[subpart_start_row:subpart_end_row, subpart_start_col:subpart_end_col] = \\\n",
    "        array[start_row:end_row, start_col:end_col]\n",
    "    \n",
    "    return subpart\n",
    "\n",
    "# Example usage:\n",
    "input_array = np.array([[1, 2, 3, 4, 5],\n",
    "                        [6, 7, 8, 9, 10],\n",
    "                        [11, 12, 13, 14, 15]])\n",
    "\n",
    "center_element = (1, 2)\n",
    "subpart_shape = (3, 3)\n",
    "fill_value = 0\n",
    "\n",
    "subpart = extract_centered_subpart(input_array, center_element, subpart_shape, fill_value)\n",
    "print(\"Extracted Subpart:\")\n",
    "print(subpart)\n"
   ]
  },
  {
   "cell_type": "code",
   "execution_count": null,
   "id": "673212eb",
   "metadata": {},
   "outputs": [],
   "source": []
  }
 ],
 "metadata": {
  "kernelspec": {
   "display_name": "Python 3 (ipykernel)",
   "language": "python",
   "name": "python3"
  },
  "language_info": {
   "codemirror_mode": {
    "name": "ipython",
    "version": 3
   },
   "file_extension": ".py",
   "mimetype": "text/x-python",
   "name": "python",
   "nbconvert_exporter": "python",
   "pygments_lexer": "ipython3",
   "version": "3.10.9"
  }
 },
 "nbformat": 4,
 "nbformat_minor": 5
}
