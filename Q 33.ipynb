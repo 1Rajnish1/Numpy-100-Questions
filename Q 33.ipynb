{
 "cells": [
  {
   "cell_type": "code",
   "execution_count": 7,
   "id": "b2f5dbbe",
   "metadata": {},
   "outputs": [
    {
     "name": "stdout",
     "output_type": "stream",
     "text": [
      "Yesterday: 2023-09-02\n",
      "Today: 2023-09-03\n",
      "Tomorrow: 2023-09-04\n"
     ]
    }
   ],
   "source": [
    "#33. How to get the dates of yesterday, today and tomorrow?\n",
    "\n",
    "from datetime import datetime, timedelta\n",
    "\n",
    "# Get today's date\n",
    "today = datetime.now()\n",
    "\n",
    "\n",
    "yesterday = today - timedelta(days=1)\n",
    "\n",
    "\n",
    "tomorrow = today + timedelta(days=1)\n",
    "\n",
    "today_str = today.strftime(\"%Y-%m-%d\")\n",
    "yesterday_str = yesterday.strftime(\"%Y-%m-%d\")\n",
    "tomorrow_str = tomorrow.strftime(\"%Y-%m-%d\")\n",
    "\n",
    "print(\"Yesterday:\", yesterday_str)\n",
    "print(\"Today:\", today_str)\n",
    "print(\"Tomorrow:\", tomorrow_str)\n"
   ]
  },
  {
   "cell_type": "code",
   "execution_count": null,
   "id": "40aa424c",
   "metadata": {},
   "outputs": [],
   "source": []
  }
 ],
 "metadata": {
  "kernelspec": {
   "display_name": "Python 3 (ipykernel)",
   "language": "python",
   "name": "python3"
  },
  "language_info": {
   "codemirror_mode": {
    "name": "ipython",
    "version": 3
   },
   "file_extension": ".py",
   "mimetype": "text/x-python",
   "name": "python",
   "nbconvert_exporter": "python",
   "pygments_lexer": "ipython3",
   "version": "3.10.9"
  }
 },
 "nbformat": 4,
 "nbformat_minor": 5
}
