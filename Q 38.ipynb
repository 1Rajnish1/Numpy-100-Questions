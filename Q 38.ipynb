{
 "cells": [
  {
   "cell_type": "code",
   "execution_count": 8,
   "id": "4244ac91",
   "metadata": {},
   "outputs": [
    {
     "name": "stdout",
     "output_type": "stream",
     "text": [
      "[0 1 2 3 4 5 6 7 8 9]\n"
     ]
    }
   ],
   "source": [
    "#38. Consider a generator function that generates 10 integers and use it to build an array\n",
    "\n",
    "\n",
    "def generate_integers():\n",
    "    for i in range(10):\n",
    "        yield i\n",
    "\n",
    "\n",
    "integer_array = []\n",
    "for num in generate_integers():\n",
    "    integer_array.append(num)\n",
    "\n",
    "\n",
    "\n",
    "import numpy as np\n",
    "integer_array = np.array(integer_array)\n",
    "\n",
    "\n",
    "print(integer_array)\n"
   ]
  },
  {
   "cell_type": "code",
   "execution_count": null,
   "id": "c71b3f99",
   "metadata": {},
   "outputs": [],
   "source": []
  }
 ],
 "metadata": {
  "kernelspec": {
   "display_name": "Python 3 (ipykernel)",
   "language": "python",
   "name": "python3"
  },
  "language_info": {
   "codemirror_mode": {
    "name": "ipython",
    "version": 3
   },
   "file_extension": ".py",
   "mimetype": "text/x-python",
   "name": "python",
   "nbconvert_exporter": "python",
   "pygments_lexer": "ipython3",
   "version": "3.10.9"
  }
 },
 "nbformat": 4,
 "nbformat_minor": 5
}
