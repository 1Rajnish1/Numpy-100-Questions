{
 "cells": [
  {
   "cell_type": "code",
   "execution_count": 2,
   "id": "1b641952",
   "metadata": {},
   "outputs": [
    {
     "name": "stdout",
     "output_type": "stream",
     "text": [
      "[2, 3, -4, -5]\n"
     ]
    }
   ],
   "source": [
    "#29. How to round away from zero a float array ?\n",
    "\n",
    "import math\n",
    "\n",
    "def round_away_from_zero(arr):\n",
    "    result = []\n",
    "    for num in arr:\n",
    "        if num >= 0:\n",
    "            rounded = math.ceil(num)\n",
    "        else:\n",
    "            rounded = math.floor(num)\n",
    "        result.append(rounded)\n",
    "    return result\n",
    "\n",
    "\n",
    "float_array = [1.3, 2.7, -3.5, -4.9]\n",
    "rounded_array = round_away_from_zero(float_array)\n",
    "print(rounded_array)  # Output: [2, 3, -4, -5]\n"
   ]
  },
  {
   "cell_type": "code",
   "execution_count": null,
   "id": "32856fe6",
   "metadata": {},
   "outputs": [],
   "source": []
  }
 ],
 "metadata": {
  "kernelspec": {
   "display_name": "Python 3 (ipykernel)",
   "language": "python",
   "name": "python3"
  },
  "language_info": {
   "codemirror_mode": {
    "name": "ipython",
    "version": 3
   },
   "file_extension": ".py",
   "mimetype": "text/x-python",
   "name": "python",
   "nbconvert_exporter": "python",
   "pygments_lexer": "ipython3",
   "version": "3.10.9"
  }
 },
 "nbformat": 4,
 "nbformat_minor": 5
}
