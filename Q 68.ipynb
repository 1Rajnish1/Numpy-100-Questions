{
 "cells": [
  {
   "cell_type": "code",
   "execution_count": 8,
   "id": "0b4fe95e",
   "metadata": {},
   "outputs": [
    {
     "name": "stdout",
     "output_type": "stream",
     "text": [
      "Subset Means: [2.  3.  5.5 8.5]\n"
     ]
    }
   ],
   "source": [
    "# 68. Considering a one-dimensional vector D, how to compute means of subsets of D using a vector S of same size describing subset  indices? \n",
    "\n",
    "import numpy as np\n",
    "\n",
    "D = np.array([1, 2, 3, 4, 5, 6, 7, 8, 9, 10])\n",
    "S = np.array([0, 1, 0, 1, 2, 2, 3, 3, 3, 3])\n",
    "\n",
    "unique_indices = np.unique(S)\n",
    "\n",
    "subset_means = []\n",
    "\n",
    "for index in unique_indices:\n",
    "    subset = D[S == index]  \n",
    "    subset_mean = np.mean(subset) \n",
    "    subset_means.append(subset_mean)\n",
    "\n",
    "subset_means_array = np.array(subset_means)\n",
    "\n",
    "print(\"Subset Means:\", subset_means_array)"
   ]
  },
  {
   "cell_type": "code",
   "execution_count": null,
   "id": "f1096489",
   "metadata": {},
   "outputs": [],
   "source": []
  }
 ],
 "metadata": {
  "kernelspec": {
   "display_name": "Python 3 (ipykernel)",
   "language": "python",
   "name": "python3"
  },
  "language_info": {
   "codemirror_mode": {
    "name": "ipython",
    "version": 3
   },
   "file_extension": ".py",
   "mimetype": "text/x-python",
   "name": "python",
   "nbconvert_exporter": "python",
   "pygments_lexer": "ipython3",
   "version": "3.10.9"
  }
 },
 "nbformat": 4,
 "nbformat_minor": 5
}
