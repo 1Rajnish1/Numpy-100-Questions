{
 "cells": [
  {
   "cell_type": "code",
   "execution_count": 6,
   "id": "e428ad08",
   "metadata": {},
   "outputs": [
    {
     "name": "stdout",
     "output_type": "stream",
     "text": [
      "Matrix Product:\n",
      "[[ 2.2  2.8]\n",
      " [ 4.9  6.4]\n",
      " [ 7.6 10. ]\n",
      " [10.3 13.6]\n",
      " [13.  17.2]]\n"
     ]
    }
   ],
   "source": [
    "# 24. Multiply a 5x3 matrix by a 3x2 matrix (real matrix product)\n",
    "\n",
    "import numpy as np\n",
    "\n",
    "matrix_A = np.array([[1, 2, 3],\n",
    "                     [4, 5, 6],\n",
    "                     [7, 8, 9],\n",
    "                     [10, 11, 12],\n",
    "                     [13, 14, 15]])\n",
    "\n",
    "\n",
    "matrix_B = np.array([[0.1, 0.2],\n",
    "                     [0.3, 0.4],\n",
    "                     [0.5, 0.6]])\n",
    "\n",
    "matrix_product = np.dot(matrix_A, matrix_B)\n",
    "\n",
    "print(\"Matrix Product:\")\n",
    "print(matrix_product)\n"
   ]
  },
  {
   "cell_type": "code",
   "execution_count": null,
   "id": "8907aaaf",
   "metadata": {},
   "outputs": [],
   "source": []
  }
 ],
 "metadata": {
  "kernelspec": {
   "display_name": "Python 3 (ipykernel)",
   "language": "python",
   "name": "python3"
  },
  "language_info": {
   "codemirror_mode": {
    "name": "ipython",
    "version": 3
   },
   "file_extension": ".py",
   "mimetype": "text/x-python",
   "name": "python",
   "nbconvert_exporter": "python",
   "pygments_lexer": "ipython3",
   "version": "3.10.9"
  }
 },
 "nbformat": 4,
 "nbformat_minor": 5
}
