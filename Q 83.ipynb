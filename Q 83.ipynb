{
 "cells": [
  {
   "cell_type": "code",
   "execution_count": 6,
   "id": "1ce25388",
   "metadata": {},
   "outputs": [
    {
     "name": "stdout",
     "output_type": "stream",
     "text": [
      "Most Frequent Value: 2\n",
      "Count: 7\n"
     ]
    }
   ],
   "source": [
    "# 83. How to find the most frequent value in an array?\n",
    "\n",
    "import numpy as np\n",
    "\n",
    "array = np.array([2, 3, 2, 4, 5, 2, 6, 2, 7, 2, 8, 9, 2, 10, 11, 2])\n",
    "\n",
    "unique_values, counts = np.unique(array, return_counts=True)\n",
    "\n",
    "max_count_index = np.argmax(counts)\n",
    "\n",
    "most_frequent_value = unique_values[max_count_index]\n",
    "\n",
    "print(\"Most Frequent Value:\", most_frequent_value)\n",
    "print(\"Count:\", counts[max_count_index])"
   ]
  },
  {
   "cell_type": "code",
   "execution_count": null,
   "id": "bd6f97f6",
   "metadata": {},
   "outputs": [],
   "source": []
  }
 ],
 "metadata": {
  "kernelspec": {
   "display_name": "Python 3 (ipykernel)",
   "language": "python",
   "name": "python3"
  },
  "language_info": {
   "codemirror_mode": {
    "name": "ipython",
    "version": 3
   },
   "file_extension": ".py",
   "mimetype": "text/x-python",
   "name": "python",
   "nbconvert_exporter": "python",
   "pygments_lexer": "ipython3",
   "version": "3.10.9"
  }
 },
 "nbformat": 4,
 "nbformat_minor": 5
}
