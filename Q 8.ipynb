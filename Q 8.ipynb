{
 "cells": [
  {
   "cell_type": "code",
   "execution_count": 1,
   "id": "8376a0a5",
   "metadata": {},
   "outputs": [
    {
     "name": "stdout",
     "output_type": "stream",
     "text": [
      "[5 4 3 2 1]\n"
     ]
    }
   ],
   "source": [
    "#8. Reverse a vector (first element becomes last)\n",
    "\n",
    "import numpy as np\n",
    "\n",
    "# Create a sample vector\n",
    "my_vector = np.array([1, 2, 3, 4, 5])\n",
    "\n",
    "# Reverse the vector\n",
    "reversed_vector = my_vector[::-1]\n",
    "\n",
    "print(reversed_vector)\n"
   ]
  },
  {
   "cell_type": "code",
   "execution_count": null,
   "id": "993ea126",
   "metadata": {},
   "outputs": [],
   "source": []
  }
 ],
 "metadata": {
  "kernelspec": {
   "display_name": "Python 3 (ipykernel)",
   "language": "python",
   "name": "python3"
  },
  "language_info": {
   "codemirror_mode": {
    "name": "ipython",
    "version": 3
   },
   "file_extension": ".py",
   "mimetype": "text/x-python",
   "name": "python",
   "nbconvert_exporter": "python",
   "pygments_lexer": "ipython3",
   "version": "3.10.9"
  }
 },
 "nbformat": 4,
 "nbformat_minor": 5
}
