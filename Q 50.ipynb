{
 "cells": [
  {
   "cell_type": "code",
   "execution_count": 6,
   "id": "58790b3f",
   "metadata": {},
   "outputs": [
    {
     "name": "stdout",
     "output_type": "stream",
     "text": [
      "Vector: [ 1  3  7 12 18 25]\n",
      "Scalar: 8\n",
      "Closest Value: 7\n"
     ]
    }
   ],
   "source": [
    "# 50. How to find the closest value (to a given scalar) in a vector?\n",
    "\n",
    "import numpy as np\n",
    "\n",
    "vector = np.array([1, 3, 7, 12, 18, 25])\n",
    "\n",
    "scalar = 8\n",
    "\n",
    "differences = np.abs(vector - scalar)\n",
    "\n",
    "closest_index = np.argmin(differences)\n",
    "\n",
    "closest_value = vector[closest_index]\n",
    "\n",
    "print(\"Vector:\", vector)\n",
    "print(f\"Scalar: {scalar}\")\n",
    "print(f\"Closest Value: {closest_value}\")\n"
   ]
  },
  {
   "cell_type": "code",
   "execution_count": null,
   "id": "79722eb6",
   "metadata": {},
   "outputs": [],
   "source": []
  }
 ],
 "metadata": {
  "kernelspec": {
   "display_name": "Python 3 (ipykernel)",
   "language": "python",
   "name": "python3"
  },
  "language_info": {
   "codemirror_mode": {
    "name": "ipython",
    "version": 3
   },
   "file_extension": ".py",
   "mimetype": "text/x-python",
   "name": "python",
   "nbconvert_exporter": "python",
   "pygments_lexer": "ipython3",
   "version": "3.10.9"
  }
 },
 "nbformat": 4,
 "nbformat_minor": 5
}
