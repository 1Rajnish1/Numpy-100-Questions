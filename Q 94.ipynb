{
 "cells": [
  {
   "cell_type": "code",
   "execution_count": 4,
   "id": "9eda9842",
   "metadata": {},
   "outputs": [
    {
     "name": "stdout",
     "output_type": "stream",
     "text": [
      "Rows with unequal values:\n",
      "[[ 2  2  3]\n",
      " [ 5  6  7]\n",
      " [ 8  8  9]\n",
      " [10 11 11]\n",
      " [12 13 14]\n",
      " [16 17 18]\n",
      " [19 20 21]]\n"
     ]
    }
   ],
   "source": [
    "# 94. Considering a 10x3 matrix, extract rows with unequal values (e.g. [2,2,3])\n",
    "\n",
    "import numpy as np\n",
    "\n",
    "\n",
    "matrix = np.array([[1, 1, 1],\n",
    "                   [2, 2, 3],\n",
    "                   [4, 4, 4],\n",
    "                   [5, 6, 7],\n",
    "                   [8, 8, 9],\n",
    "                   [10, 11, 11],\n",
    "                   [12, 13, 14],\n",
    "                   [15, 15, 15],\n",
    "                   [16, 17, 18],\n",
    "                   [19, 20, 21]])\n",
    "\n",
    "\n",
    "unequal_rows = matrix[~np.all(matrix[:, 1:] == matrix[:, :-1], axis=1)]\n",
    "\n",
    "\n",
    "print(\"Rows with unequal values:\")\n",
    "print(unequal_rows)\n"
   ]
  },
  {
   "cell_type": "code",
   "execution_count": null,
   "id": "df0dc613",
   "metadata": {},
   "outputs": [],
   "source": []
  }
 ],
 "metadata": {
  "kernelspec": {
   "display_name": "Python 3 (ipykernel)",
   "language": "python",
   "name": "python3"
  },
  "language_info": {
   "codemirror_mode": {
    "name": "ipython",
    "version": 3
   },
   "file_extension": ".py",
   "mimetype": "text/x-python",
   "name": "python",
   "nbconvert_exporter": "python",
   "pygments_lexer": "ipython3",
   "version": "3.10.9"
  }
 },
 "nbformat": 4,
 "nbformat_minor": 5
}
