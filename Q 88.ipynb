{
 "cells": [
  {
   "cell_type": "code",
   "execution_count": 24,
   "id": "83406881",
   "metadata": {},
   "outputs": [
    {
     "data": {
      "image/png": "[encoded data removed]",
      "text/plain": [
       "<Figure size 640x480 with 1 Axes>"
      ]
     },
     "metadata": {},
     "output_type": "display_data"
    }
   ],
   "source": [
    "# 88. How to implement the Game of Life using numpy arrays?\n",
    "\n",
    "import numpy as np\n",
    "import matplotlib.pyplot as plt\n",
    "import matplotlib.animation as animation\n",
    "\n",
    "def initialize_board(size, p_alive=0.2):\n",
    "    \"\"\"Initialize the game board with random alive (1) and dead (0) cells.\"\"\"\n",
    "    return np.random.choice([0, 1], size=(size, size), p=[1 - p_alive, p_alive])\n",
    "\n",
    "def update_board(board):\n",
    "    \"\"\"Update the game board based on the Game of Life rules.\"\"\"\n",
    "    neighbors = sum(np.roll(np.roll(board, i, 0), j, 1)\n",
    "                    for i in (-1, 0, 1) for j in (-1, 0, 1)\n",
    "                    if (i != 0 or j != 0))\n",
    "    new_board = np.where((neighbors == 3) | (board & (neighbors == 2)), 1, 0)\n",
    "    return new_board\n",
    "\n",
    "def animate_game(size, p_alive=0.2, steps=100, interval=200):\n",
    "    \"\"\"Animate the Game of Life.\"\"\"\n",
    "    board = initialize_board(size, p_alive)\n",
    "    \n",
    "    fig, ax = plt.subplots()\n",
    "    img = ax.imshow(board, cmap='binary', interpolation='nearest')\n",
    "    \n",
    "    def update(frame):\n",
    "        nonlocal board\n",
    "        board = update_board(board)\n",
    "        img.set_data(board)\n",
    "    \n",
    "    ani = animation.FuncAnimation(fig, update, frames=steps, interval=interval)\n",
    "    plt.show()\n",
    "\n",
    "    \n",
    "animate_game(size=50, p_alive=0.2, steps=100, interval=200)"
   ]
  },
  {
   "cell_type": "code",
   "execution_count": null,
   "id": "19704379",
   "metadata": {},
   "outputs": [],
   "source": []
  },
  {
   "cell_type": "code",
   "execution_count": null,
   "id": "0fa587ce",
   "metadata": {},
   "outputs": [],
   "source": []
  }
 ],
 "metadata": {
  "kernelspec": {
   "display_name": "Python 3 (ipykernel)",
   "language": "python",
   "name": "python3"
  },
  "language_info": {
   "codemirror_mode": {
    "name": "ipython",
    "version": 3
   },
   "file_extension": ".py",
   "mimetype": "text/x-python",
   "name": "python",
   "nbconvert_exporter": "python",
   "pygments_lexer": "ipython3",
   "version": "3.10.9"
  }
 },
 "nbformat": 4,
 "nbformat_minor": 5
}
