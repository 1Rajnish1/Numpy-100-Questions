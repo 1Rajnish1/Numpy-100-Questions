{
 "cells": [
  {
   "cell_type": "code",
   "execution_count": 6,
   "id": "d2c526f0",
   "metadata": {},
   "outputs": [
    {
     "name": "stdout",
     "output_type": "stream",
     "text": [
      "Accumulated Array F: [0. 5. 3. 7.]\n"
     ]
    }
   ],
   "source": [
    "# 65. How to accumulate elements of a vector (X) to an array (F) based on an index list (I)?\n",
    "\n",
    "import numpy as np\n",
    "\n",
    "X = np.array([1, 2, 3, 4, 5])\n",
    "I = np.array([1, 3, 2, 1, 3])\n",
    "\n",
    "max_index = np.max(I)\n",
    "F = np.zeros(max_index + 1)\n",
    "\n",
    "for i, x in zip(I, X):\n",
    "    F[i] += x\n",
    "\n",
    "print(\"Accumulated Array F:\", F)\n"
   ]
  },
  {
   "cell_type": "code",
   "execution_count": null,
   "id": "97594d71",
   "metadata": {},
   "outputs": [],
   "source": []
  }
 ],
 "metadata": {
  "kernelspec": {
   "display_name": "Python 3 (ipykernel)",
   "language": "python",
   "name": "python3"
  },
  "language_info": {
   "codemirror_mode": {
    "name": "ipython",
    "version": 3
   },
   "file_extension": ".py",
   "mimetype": "text/x-python",
   "name": "python",
   "nbconvert_exporter": "python",
   "pygments_lexer": "ipython3",
   "version": "3.10.9"
  }
 },
 "nbformat": 4,
 "nbformat_minor": 5
}
