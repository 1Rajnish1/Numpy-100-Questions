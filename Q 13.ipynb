{
 "cells": [
  {
   "cell_type": "code",
   "execution_count": 3,
   "id": "cb137f5f",
   "metadata": {},
   "outputs": [
    {
     "name": "stdout",
     "output_type": "stream",
     "text": [
      "Random Array:\n",
      "[[0.77227379 0.09794913 0.82851882 0.50784613 0.01651793 0.68953351\n",
      "  0.09684895 0.55243726 0.87294066 0.45212034]\n",
      " [0.53909542 0.12295721 0.81843639 0.88549035 0.98409241 0.80834172\n",
      "  0.76956412 0.36770968 0.9464894  0.41472432]\n",
      " [0.62199443 0.62033977 0.30609646 0.62840523 0.90764413 0.42925501\n",
      "  0.55688949 0.56720773 0.43846547 0.65454606]\n",
      " [0.99133855 0.59418107 0.4023296  0.95693604 0.31077791 0.34666856\n",
      "  0.20907261 0.24782402 0.10696415 0.42097534]\n",
      " [0.1596452  0.35993235 0.74964949 0.60044136 0.68193065 0.65925392\n",
      "  0.58359875 0.5636103  0.20604489 0.14735301]\n",
      " [0.43995995 0.68689702 0.43316956 0.52558508 0.06077609 0.01580962\n",
      "  0.58958014 0.85312451 0.6110142  0.19294026]\n",
      " [0.55291649 0.39042804 0.35051802 0.19468855 0.03133597 0.14200388\n",
      "  0.22565119 0.37279596 0.7637134  0.11706636]\n",
      " [0.68706127 0.38267365 0.49745263 0.935671   0.4108382  0.71674087\n",
      "  0.14944877 0.39399811 0.37937479 0.63987161]\n",
      " [0.76285161 0.50571544 0.74598446 0.74941689 0.633152   0.84595758\n",
      "  0.77767418 0.72093906 0.89668573 0.43995967]\n",
      " [0.09953036 0.82640633 0.82194149 0.92140882 0.31469157 0.54389572\n",
      "  0.54456797 0.2337261  0.73208858 0.17799556]]\n",
      "Minimum Value:  0.01580962007643827\n",
      "Maximum Value:  0.9913385503776612\n"
     ]
    }
   ],
   "source": [
    "#13. Create a 10x10 array with random values and find the minimum and maximum values\n",
    "\n",
    "import numpy as np\n",
    "\n",
    "# Create a 10x10 array with random values between 0 and 1\n",
    "random_array = np.random.rand(10, 10)\n",
    "\n",
    "# Find the minimum and maximum values in the array\n",
    "min_value = random_array.min()\n",
    "max_value = random_array.max()\n",
    "\n",
    "print(\"Random Array:\")\n",
    "print(random_array)\n",
    "print(\"Minimum Value: \", min_value)\n",
    "print(\"Maximum Value: \", max_value)\n"
   ]
  },
  {
   "cell_type": "code",
   "execution_count": null,
   "id": "a5eb3649",
   "metadata": {},
   "outputs": [],
   "source": []
  }
 ],
 "metadata": {
  "kernelspec": {
   "display_name": "Python 3 (ipykernel)",
   "language": "python",
   "name": "python3"
  },
  "language_info": {
   "codemirror_mode": {
    "name": "ipython",
    "version": 3
   },
   "file_extension": ".py",
   "mimetype": "text/x-python",
   "name": "python",
   "nbconvert_exporter": "python",
   "pygments_lexer": "ipython3",
   "version": "3.10.9"
  }
 },
 "nbformat": 4,
 "nbformat_minor": 5
}
