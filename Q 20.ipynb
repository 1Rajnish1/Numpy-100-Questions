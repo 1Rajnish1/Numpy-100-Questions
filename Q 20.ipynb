{
 "cells": [
  {
   "cell_type": "code",
   "execution_count": 2,
   "id": "57399f80",
   "metadata": {},
   "outputs": [
    {
     "name": "stdout",
     "output_type": "stream",
     "text": [
      "The index (x, y, z) of the 100th element is (1, 5, 3)\n"
     ]
    }
   ],
   "source": [
    "#20. Consider a (6,7,8) shape array, what is the index (x,y,z) of the 100th element?\n",
    "\n",
    "import numpy as np\n",
    "\n",
    "shape = (6, 7, 8)\n",
    "total_elements = np.prod(shape)  \n",
    "element_index = 100 - 1  \n",
    "\n",
    "x = element_index // (shape[1] * shape[2])\n",
    "y = (element_index % (shape[1] * shape[2])) // shape[2]\n",
    "z = (element_index % (shape[1] * shape[2])) % shape[2]\n",
    "\n",
    "print(f\"The index (x, y, z) of the 100th element is ({x}, {y}, {z})\")\n",
    "\n"
   ]
  },
  {
   "cell_type": "code",
   "execution_count": null,
   "id": "1ef23de0",
   "metadata": {},
   "outputs": [],
   "source": []
  }
 ],
 "metadata": {
  "kernelspec": {
   "display_name": "Python 3 (ipykernel)",
   "language": "python",
   "name": "python3"
  },
  "language_info": {
   "codemirror_mode": {
    "name": "ipython",
    "version": 3
   },
   "file_extension": ".py",
   "mimetype": "text/x-python",
   "name": "python",
   "nbconvert_exporter": "python",
   "pygments_lexer": "ipython3",
   "version": "3.10.9"
  }
 },
 "nbformat": 4,
 "nbformat_minor": 5
}
