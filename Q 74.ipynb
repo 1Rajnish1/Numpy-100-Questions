{
 "cells": [
  {
   "cell_type": "code",
   "execution_count": 5,
   "id": "a51164c4",
   "metadata": {},
   "outputs": [
    {
     "name": "stdout",
     "output_type": "stream",
     "text": [
      "Array A: [1 2 2 3 3 3 4 4 4 4 5 5 5 5 5]\n",
      "Array C: [0 1 2 3 4 5]\n"
     ]
    }
   ],
   "source": [
    "# 74. Given a sorted array C that corresponds to a bincount, how to produce an array A such that np.bincount(A) == C?\n",
    "\n",
    "import numpy as np\n",
    "\n",
    "C = np.array([0, 1, 2, 3, 4, 5])\n",
    "\n",
    "max_value = len(C) - 1\n",
    "A_size = np.sum(C)\n",
    "\n",
    "A = np.repeat(np.arange(max_value + 1), C)\n",
    "\n",
    "print(\"Array A:\", A)\n",
    "print(\"Array C:\", C)"
   ]
  },
  {
   "cell_type": "code",
   "execution_count": null,
   "id": "b69ffefe",
   "metadata": {},
   "outputs": [],
   "source": []
  }
 ],
 "metadata": {
  "kernelspec": {
   "display_name": "Python 3 (ipykernel)",
   "language": "python",
   "name": "python3"
  },
  "language_info": {
   "codemirror_mode": {
    "name": "ipython",
    "version": 3
   },
   "file_extension": ".py",
   "mimetype": "text/x-python",
   "name": "python",
   "nbconvert_exporter": "python",
   "pygments_lexer": "ipython3",
   "version": "3.10.9"
  }
 },
 "nbformat": 4,
 "nbformat_minor": 5
}
