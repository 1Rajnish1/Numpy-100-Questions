{
 "cells": [
  {
   "cell_type": "code",
   "execution_count": 7,
   "id": "c2c71602",
   "metadata": {},
   "outputs": [
    {
     "name": "stdout",
     "output_type": "stream",
     "text": [
      "Selected Rows:\n",
      "[2 3 1 1 2 3]\n"
     ]
    }
   ],
   "source": [
    "# 99. Given an integer n and a 2D array X, select from X the rows which can be interpreted as draws \n",
    "#from a multinomial distribution with n degrees, i.e., the rows which only contain integers and which sum to n.\n",
    "\n",
    "import numpy as np\n",
    "\n",
    "\n",
    "X = np.array([[2, 3, 1],\n",
    "              [1, 2, 3],\n",
    "              [0, 5, 5],\n",
    "              [4, 0, 1]])\n",
    "\n",
    "n = 6\n",
    "\n",
    "selected_rows = X[(X.astype(int) == X) & (np.tile(X.sum(axis=1), (X.shape[1], 1)).T == n)]\n",
    "\n",
    "print(\"Selected Rows:\")\n",
    "print(selected_rows)"
   ]
  },
  {
   "cell_type": "code",
   "execution_count": null,
   "id": "3acf8c77",
   "metadata": {},
   "outputs": [],
   "source": []
  }
 ],
 "metadata": {
  "kernelspec": {
   "display_name": "Python 3 (ipykernel)",
   "language": "python",
   "name": "python3"
  },
  "language_info": {
   "codemirror_mode": {
    "name": "ipython",
    "version": 3
   },
   "file_extension": ".py",
   "mimetype": "text/x-python",
   "name": "python",
   "nbconvert_exporter": "python",
   "pygments_lexer": "ipython3",
   "version": "3.10.9"
  }
 },
 "nbformat": 4,
 "nbformat_minor": 5
}
