{
 "cells": [
  {
   "cell_type": "code",
   "execution_count": 9,
   "id": "1d5ed0cf",
   "metadata": {},
   "outputs": [
    {
     "name": "stdout",
     "output_type": "stream",
     "text": [
      "[[0 0 0 0 1]\n",
      " [0 0 1 0 0]\n",
      " [0 0 0 0 0]\n",
      " [0 1 0 0 1]\n",
      " [0 0 0 0 1]]\n"
     ]
    }
   ],
   "source": [
    "# 57. How to randomly place p elements in a 2D array? \n",
    "\n",
    "import numpy as np\n",
    "\n",
    "rows, cols = 5, 5  \n",
    "array = np.zeros((rows, cols), dtype=int) \n",
    "\n",
    "p = 5  \n",
    "\n",
    "random_coords = np.random.randint(0, rows, size=(p, 2))\n",
    "\n",
    "for coord in random_coords:\n",
    "    row, col = coord\n",
    "    array[row, col] = 1  \n",
    "\n",
    "print(array)"
   ]
  },
  {
   "cell_type": "code",
   "execution_count": null,
   "id": "f2454c9f",
   "metadata": {},
   "outputs": [],
   "source": []
  }
 ],
 "metadata": {
  "kernelspec": {
   "display_name": "Python 3 (ipykernel)",
   "language": "python",
   "name": "python3"
  },
  "language_info": {
   "codemirror_mode": {
    "name": "ipython",
    "version": 3
   },
   "file_extension": ".py",
   "mimetype": "text/x-python",
   "name": "python",
   "nbconvert_exporter": "python",
   "pygments_lexer": "ipython3",
   "version": "3.10.9"
  }
 },
 "nbformat": 4,
 "nbformat_minor": 5
}
