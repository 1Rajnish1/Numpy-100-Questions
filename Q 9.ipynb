{
 "cells": [
  {
   "cell_type": "code",
   "execution_count": 1,
   "id": "e7459f57",
   "metadata": {},
   "outputs": [
    {
     "name": "stdout",
     "output_type": "stream",
     "text": [
      "[[0 1 2]\n",
      " [3 4 5]\n",
      " [6 7 8]]\n"
     ]
    }
   ],
   "source": [
    "#9. Create a 3x3 matrix with values ranging from 0 to 8\n",
    "\n",
    "import numpy as np\n",
    "\n",
    "# Create a NumPy array with values ranging from 0 to 8\n",
    "my_array = np.arange(9)\n",
    "\n",
    "# Reshape the array into a 3x3 matrix\n",
    "my_matrix = my_array.reshape(3, 3)\n",
    "\n",
    "print(my_matrix)\n"
   ]
  },
  {
   "cell_type": "code",
   "execution_count": null,
   "id": "d6b16016",
   "metadata": {},
   "outputs": [],
   "source": []
  }
 ],
 "metadata": {
  "kernelspec": {
   "display_name": "Python 3 (ipykernel)",
   "language": "python",
   "name": "python3"
  },
  "language_info": {
   "codemirror_mode": {
    "name": "ipython",
    "version": 3
   },
   "file_extension": ".py",
   "mimetype": "text/x-python",
   "name": "python",
   "nbconvert_exporter": "python",
   "pygments_lexer": "ipython3",
   "version": "3.10.9"
  }
 },
 "nbformat": 4,
 "nbformat_minor": 5
}
