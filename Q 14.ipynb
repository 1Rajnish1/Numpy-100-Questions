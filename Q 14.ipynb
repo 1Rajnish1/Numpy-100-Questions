{
 "cells": [
  {
   "cell_type": "code",
   "execution_count": 1,
   "id": "89e41f2b",
   "metadata": {},
   "outputs": [
    {
     "name": "stdout",
     "output_type": "stream",
     "text": [
      "Random Vector:\n",
      "[0.76469896 0.08596986 0.00316813 0.9133844  0.10001142 0.33932534\n",
      " 0.04194033 0.86848259 0.15538765 0.4048184  0.22101003 0.61264003\n",
      " 0.05917281 0.03422331 0.08749098 0.31801722 0.77381284 0.85284688\n",
      " 0.75612903 0.90565934 0.45972064 0.60771619 0.32751818 0.87367732\n",
      " 0.87643469 0.33838423 0.15153618 0.08769788 0.58111833 0.53223975]\n",
      "Mean Value: 0.43780776521035547\n"
     ]
    }
   ],
   "source": [
    "#14. Create a random vector of size 30 and find the mean value\n",
    "\n",
    "import numpy as np\n",
    "\n",
    "\n",
    "random_vector = np.random.rand(30)\n",
    "\n",
    "mean_value = random_vector.mean()\n",
    "\n",
    "print(\"Random Vector:\")\n",
    "print(random_vector)\n",
    "print(\"Mean Value:\", mean_value)\n"
   ]
  },
  {
   "cell_type": "code",
   "execution_count": null,
   "id": "7e55392e",
   "metadata": {},
   "outputs": [],
   "source": []
  }
 ],
 "metadata": {
  "kernelspec": {
   "display_name": "Python 3 (ipykernel)",
   "language": "python",
   "name": "python3"
  },
  "language_info": {
   "codemirror_mode": {
    "name": "ipython",
    "version": 3
   },
   "file_extension": ".py",
   "mimetype": "text/x-python",
   "name": "python",
   "nbconvert_exporter": "python",
   "pygments_lexer": "ipython3",
   "version": "3.10.9"
  }
 },
 "nbformat": 4,
 "nbformat_minor": 5
}
