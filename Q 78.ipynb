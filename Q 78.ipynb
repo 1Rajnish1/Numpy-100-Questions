{
 "cells": [
  {
   "cell_type": "code",
   "execution_count": 7,
   "id": "1703fddc",
   "metadata": {},
   "outputs": [
    {
     "name": "stdout",
     "output_type": "stream",
     "text": [
      "Distances to lines: [0.81649658 0.81649658 0.81649658]\n"
     ]
    }
   ],
   "source": [
    "# 78. Consider 2 sets of points P0,P1 describing lines (2d) and a point p,\n",
    "#how to compute distance from p to each line i (P0[i],P1[i])?\n",
    "\n",
    "import numpy as np\n",
    "\n",
    "def point_to_line_distances(p, P0, P1):\n",
    "\n",
    "    AB = P1 - P0\n",
    "    AP = p - P0\n",
    "\n",
    "\n",
    "    cross_product = np.cross(AP, AB)\n",
    "    magnitude_AB = np.linalg.norm(AB)\n",
    "\n",
    "\n",
    "    distances = np.abs(cross_product) / magnitude_AB\n",
    "\n",
    "    return distances\n",
    "\n",
    "P0 = np.array([[1, 1], [2, 2], [3, 3]])\n",
    "P1 = np.array([[4, 4], [5, 5], [6, 6]])\n",
    "p = np.array([2, 4])\n",
    "\n",
    "distances = point_to_line_distances(p, P0, P1)\n",
    "print(\"Distances to lines:\", distances)\n"
   ]
  },
  {
   "cell_type": "code",
   "execution_count": null,
   "id": "ea183395",
   "metadata": {},
   "outputs": [],
   "source": []
  }
 ],
 "metadata": {
  "kernelspec": {
   "display_name": "Python 3 (ipykernel)",
   "language": "python",
   "name": "python3"
  },
  "language_info": {
   "codemirror_mode": {
    "name": "ipython",
    "version": 3
   },
   "file_extension": ".py",
   "mimetype": "text/x-python",
   "name": "python",
   "nbconvert_exporter": "python",
   "pygments_lexer": "ipython3",
   "version": "3.10.9"
  }
 },
 "nbformat": 4,
 "nbformat_minor": 5
}
