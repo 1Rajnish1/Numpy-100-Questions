{
 "cells": [
  {
   "cell_type": "code",
   "execution_count": 2,
   "id": "408fa862",
   "metadata": {},
   "outputs": [
    {
     "name": "stdout",
     "output_type": "stream",
     "text": [
      "(255, 0, 0, 128)\n"
     ]
    }
   ],
   "source": [
    "#23. Create a custom dtype that describes a color as four unsigned bytes\n",
    "\n",
    "import numpy as np\n",
    "\n",
    "# Define a custom dtype for color\n",
    "color_dtype = np.dtype([\n",
    "    ('red', np.uint8),    # 8-bit unsigned integer for red channel\n",
    "    ('green', np.uint8),  # 8-bit unsigned integer for green channel\n",
    "    ('blue', np.uint8),   # 8-bit unsigned integer for blue channel\n",
    "    ('alpha', np.uint8)   # 8-bit unsigned integer for alpha channel\n",
    "])\n",
    "\n",
    "# Create a color using the custom dtype\n",
    "my_color = np.array((255, 0, 0, 128), dtype=color_dtype)\n",
    "\n",
    "print(my_color)"
   ]
  },
  {
   "cell_type": "code",
   "execution_count": null,
   "id": "d5835c48",
   "metadata": {},
   "outputs": [],
   "source": []
  }
 ],
 "metadata": {
  "kernelspec": {
   "display_name": "Python 3 (ipykernel)",
   "language": "python",
   "name": "python3"
  },
  "language_info": {
   "codemirror_mode": {
    "name": "ipython",
    "version": 3
   },
   "file_extension": ".py",
   "mimetype": "text/x-python",
   "name": "python",
   "nbconvert_exporter": "python",
   "pygments_lexer": "ipython3",
   "version": "3.10.9"
  }
 },
 "nbformat": 4,
 "nbformat_minor": 5
}
