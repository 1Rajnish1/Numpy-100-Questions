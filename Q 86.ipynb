{
 "cells": [
  {
   "cell_type": "code",
   "execution_count": 9,
   "id": "fb851196",
   "metadata": {},
   "outputs": [
    {
     "name": "stdout",
     "output_type": "stream",
     "text": [
      "Sum of Matrix Products with Vectors:\n",
      "[[1.61181127]\n",
      " [2.03978313]\n",
      " [1.24668394]\n",
      " [2.36123152]]\n"
     ]
    }
   ],
   "source": [
    "# 86. Consider a set of p matrices wich shape (n,n) and a set of p vectors with shape (n,1). \n",
    "#How to compute the sum of of the p matrix products at once? (result has shape (n,1))\n",
    "\n",
    "import numpy as np\n",
    "\n",
    "p = 3 \n",
    "n = 4 \n",
    "\n",
    "matrices = [np.random.rand(n, n) for _ in range(p)]\n",
    "vectors = [np.random.rand(n, 1) for _ in range(p)]\n",
    "\n",
    "result = np.sum(np.array(matrices) @ np.array(vectors), axis=0)\n",
    "\n",
    "print(\"Sum of Matrix Products with Vectors:\")\n",
    "print(result)\n"
   ]
  },
  {
   "cell_type": "code",
   "execution_count": null,
   "id": "5e79a0b0",
   "metadata": {},
   "outputs": [],
   "source": []
  }
 ],
 "metadata": {
  "kernelspec": {
   "display_name": "Python 3 (ipykernel)",
   "language": "python",
   "name": "python3"
  },
  "language_info": {
   "codemirror_mode": {
    "name": "ipython",
    "version": 3
   },
   "file_extension": ".py",
   "mimetype": "text/x-python",
   "name": "python",
   "nbconvert_exporter": "python",
   "pygments_lexer": "ipython3",
   "version": "3.10.9"
  }
 },
 "nbformat": 4,
 "nbformat_minor": 5
}
