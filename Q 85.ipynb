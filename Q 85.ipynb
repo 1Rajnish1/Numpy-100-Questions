{
 "cells": [
  {
   "cell_type": "code",
   "execution_count": 9,
   "id": "e0e1e7df",
   "metadata": {},
   "outputs": [
    {
     "name": "stdout",
     "output_type": "stream",
     "text": [
      "symmetric_array[0, 1] = 2\n",
      "symmetric_array[1, 0] = 2\n",
      "After setting symmetric_array[0, 2] to 7:\n",
      "[[1 2 7]\n",
      " [2 4 5]\n",
      " [7 5 6]]\n"
     ]
    }
   ],
   "source": [
    "# 85. Create a 2D array subclass such that Z[i,j] == Z[j,i]\n",
    "\n",
    "import numpy as np\n",
    "\n",
    "class SymmetricArray(np.ndarray):\n",
    "    def __new__(cls, input_array):\n",
    "        obj = np.asarray(input_array).view(cls)\n",
    "        return obj\n",
    "\n",
    "    def __getitem__(self, index):\n",
    "        i, j = index\n",
    "        if i <= j:\n",
    "            return super(SymmetricArray, self).__getitem__((i, j))\n",
    "        else:\n",
    "            return super(SymmetricArray, self).__getitem__((j, i))\n",
    "\n",
    "    def __setitem__(self, index, value):\n",
    "        i, j = index\n",
    "        super(SymmetricArray, self).__setitem__((i, j), value)\n",
    "        super(SymmetricArray, self).__setitem__((j, i), value)\n",
    "\n",
    "\n",
    "data = np.array([[1, 2, 3],\n",
    "                 [2, 4, 5],\n",
    "                 [3, 5, 6]])\n",
    "\n",
    "symmetric_array = SymmetricArray(data)\n",
    "\n",
    "\n",
    "print(\"symmetric_array[0, 1] =\", symmetric_array[0, 1])  # Should print 2\n",
    "print(\"symmetric_array[1, 0] =\", symmetric_array[1, 0])  # Should also print 2\n",
    "\n",
    "symmetric_array[0, 2] = 7\n",
    "print(\"After setting symmetric_array[0, 2] to 7:\")\n",
    "print(symmetric_array)\n"
   ]
  },
  {
   "cell_type": "code",
   "execution_count": null,
   "id": "0b7558b7",
   "metadata": {},
   "outputs": [],
   "source": []
  }
 ],
 "metadata": {
  "kernelspec": {
   "display_name": "Python 3 (ipykernel)",
   "language": "python",
   "name": "python3"
  },
  "language_info": {
   "codemirror_mode": {
    "name": "ipython",
    "version": 3
   },
   "file_extension": ".py",
   "mimetype": "text/x-python",
   "name": "python",
   "nbconvert_exporter": "python",
   "pygments_lexer": "ipython3",
   "version": "3.10.9"
  }
 },
 "nbformat": 4,
 "nbformat_minor": 5
}
