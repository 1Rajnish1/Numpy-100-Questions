{
 "cells": [
  {
   "cell_type": "code",
   "execution_count": 12,
   "id": "a89b8341",
   "metadata": {},
   "outputs": [
    {
     "name": "stdout",
     "output_type": "stream",
     "text": [
      "Averages: [2. 3. 4. 5. 6. 7. 8. 9.]\n"
     ]
    }
   ],
   "source": [
    "# 75. How to compute averages using a sliding window over an array?\n",
    "\n",
    "import numpy as np\n",
    "\n",
    "input_array = np.array([1, 2, 3, 4, 5, 6, 7, 8, 9, 10])\n",
    "\n",
    "window_size = 3\n",
    "\n",
    "averages = []\n",
    "\n",
    "for i in range(len(input_array) - window_size + 1):\n",
    "    window = input_array[i:i + window_size] \n",
    "    window_average = np.mean(window)  \n",
    "    averages.append(window_average)\n",
    "    \n",
    "averages_array = np.array(averages)\n",
    "\n",
    "print(\"Averages:\", averages_array)\n"
   ]
  },
  {
   "cell_type": "code",
   "execution_count": null,
   "id": "c2b70761",
   "metadata": {},
   "outputs": [],
   "source": []
  }
 ],
 "metadata": {
  "kernelspec": {
   "display_name": "Python 3 (ipykernel)",
   "language": "python",
   "name": "python3"
  },
  "language_info": {
   "codemirror_mode": {
    "name": "ipython",
    "version": 3
   },
   "file_extension": ".py",
   "mimetype": "text/x-python",
   "name": "python",
   "nbconvert_exporter": "python",
   "pygments_lexer": "ipython3",
   "version": "3.10.9"
  }
 },
 "nbformat": 4,
 "nbformat_minor": 5
}
