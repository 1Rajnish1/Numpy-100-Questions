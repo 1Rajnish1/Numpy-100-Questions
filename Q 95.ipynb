{
 "cells": [
  {
   "cell_type": "code",
   "execution_count": 7,
   "id": "16ace5db",
   "metadata": {},
   "outputs": [
    {
     "name": "stdout",
     "output_type": "stream",
     "text": [
      "Binary Matrix Representation:\n",
      "[[1 0 1]\n",
      " [0 1 0]\n",
      " [1 1 1]\n",
      " [0 0 0]\n",
      " [1 1 0]]\n"
     ]
    }
   ],
   "source": [
    "# 95. Convert a vector of ints into a matrix binary representation\n",
    "\n",
    "import numpy as np\n",
    "\n",
    "vector = np.array([5, 2, 7, 0, 3])\n",
    "\n",
    "max_value = np.max(vector)\n",
    "\n",
    "num_bits = int(np.log2(max_value)) + 1\n",
    "\n",
    "binary_matrix = ((vector[:, None] & (1 << np.arange(num_bits))) > 0).astype(int)\n",
    "\n",
    "print(\"Binary Matrix Representation:\")\n",
    "print(binary_matrix)"
   ]
  },
  {
   "cell_type": "code",
   "execution_count": null,
   "id": "4cf56bdd",
   "metadata": {},
   "outputs": [],
   "source": []
  }
 ],
 "metadata": {
  "kernelspec": {
   "display_name": "Python 3 (ipykernel)",
   "language": "python",
   "name": "python3"
  },
  "language_info": {
   "codemirror_mode": {
    "name": "ipython",
    "version": 3
   },
   "file_extension": ".py",
   "mimetype": "text/x-python",
   "name": "python",
   "nbconvert_exporter": "python",
   "pygments_lexer": "ipython3",
   "version": "3.10.9"
  }
 },
 "nbformat": 4,
 "nbformat_minor": 5
}
