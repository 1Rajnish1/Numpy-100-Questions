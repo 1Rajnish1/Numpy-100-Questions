{
 "cells": [
  {
   "cell_type": "code",
   "execution_count": 9,
   "id": "ebcaf4c3",
   "metadata": {},
   "outputs": [
    {
     "name": "stdout",
     "output_type": "stream",
     "text": [
      "[[-0.25       -0.2        -0.16666667 -0.14285714]\n",
      " [-0.33333333 -0.25       -0.2        -0.16666667]\n",
      " [-0.5        -0.33333333 -0.25       -0.2       ]\n",
      " [-1.         -0.5        -0.33333333 -0.25      ]]\n"
     ]
    }
   ],
   "source": [
    "#47. Given two arrays, X and Y, construct the Cauchy matrix C (Cij =1/(xi - yj))\n",
    "import numpy as np\n",
    "\n",
    "X = np.array([1, 2, 3, 4])\n",
    "Y = np.array([5, 6, 7, 8])\n",
    "\n",
    "\n",
    "C = 1.0 / (X[:, np.newaxis] - Y)\n",
    "\n",
    "print(C)\n",
    "\n"
   ]
  },
  {
   "cell_type": "code",
   "execution_count": null,
   "id": "a1d8cfd1",
   "metadata": {},
   "outputs": [],
   "source": []
  }
 ],
 "metadata": {
  "kernelspec": {
   "display_name": "Python 3 (ipykernel)",
   "language": "python",
   "name": "python3"
  },
  "language_info": {
   "codemirror_mode": {
    "name": "ipython",
    "version": 3
   },
   "file_extension": ".py",
   "mimetype": "text/x-python",
   "name": "python",
   "nbconvert_exporter": "python",
   "pygments_lexer": "ipython3",
   "version": "3.10.9"
  }
 },
 "nbformat": 4,
 "nbformat_minor": 5
}
