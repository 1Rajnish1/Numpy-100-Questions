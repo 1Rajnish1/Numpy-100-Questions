{
 "cells": [
  {
   "cell_type": "code",
   "execution_count": 8,
   "id": "57ebf40d",
   "metadata": {},
   "outputs": [
    {
     "name": "stdout",
     "output_type": "stream",
     "text": [
      "Cartesian Coordinates:\n",
      "[[0.17945068 0.69895673]\n",
      " [0.03307446 0.52179581]\n",
      " [0.43993366 0.23663257]\n",
      " [0.47268126 0.61472037]\n",
      " [0.48625115 0.56434458]\n",
      " [0.65838268 0.62571413]\n",
      " [0.54544136 0.07007134]\n",
      " [0.10290864 0.87267794]\n",
      " [0.80555879 0.10791874]\n",
      " [0.05931982 0.79508552]]\n",
      "\n",
      "Polar Coordinates (r, θ in degrees):\n",
      "[[ 0.72162529 75.60083841]\n",
      " [ 0.52284298 86.37311109]\n",
      " [ 0.49953639 28.27502537]\n",
      " [ 0.77544098 52.44198251]\n",
      " [ 0.74493287 49.25112138]\n",
      " [ 0.90828735 43.54265934]\n",
      " [ 0.54992388  7.32053333]\n",
      " [ 0.87872463 83.27457989]\n",
      " [ 0.81275545  7.63034384]\n",
      " [ 0.79729532 85.73317594]]\n"
     ]
    }
   ],
   "source": [
    "# 44. Consider a random 10x2 matrix representing cartesian coordinates, \n",
    "#convert them to polar coordinates\n",
    "\n",
    "import numpy as np\n",
    "\n",
    "\n",
    "cartesian_coordinates = np.random.rand(10, 2)\n",
    "\n",
    "\n",
    "x = cartesian_coordinates[:, 0]\n",
    "y = cartesian_coordinates[:, 1]\n",
    "\n",
    "\n",
    "r = np.sqrt(x**2 + y**2)\n",
    "\n",
    "\n",
    "theta = np.arctan2(y, x)\n",
    "\n",
    "\n",
    "theta_degrees = np.degrees(theta)\n",
    "\n",
    "polar_coordinates = np.column_stack((r, theta_degrees))\n",
    "\n",
    "print(\"Cartesian Coordinates:\")\n",
    "print(cartesian_coordinates)\n",
    "print(\"\\nPolar Coordinates (r, θ in degrees):\")\n",
    "print(polar_coordinates)\n"
   ]
  },
  {
   "cell_type": "code",
   "execution_count": null,
   "id": "aa0a967a",
   "metadata": {},
   "outputs": [],
   "source": []
  },
  {
   "cell_type": "code",
   "execution_count": null,
   "id": "fffa1233",
   "metadata": {},
   "outputs": [],
   "source": []
  }
 ],
 "metadata": {
  "kernelspec": {
   "display_name": "Python 3 (ipykernel)",
   "language": "python",
   "name": "python3"
  },
  "language_info": {
   "codemirror_mode": {
    "name": "ipython",
    "version": 3
   },
   "file_extension": ".py",
   "mimetype": "text/x-python",
   "name": "python",
   "nbconvert_exporter": "python",
   "pygments_lexer": "ipython3",
   "version": "3.10.9"
  }
 },
 "nbformat": 4,
 "nbformat_minor": 5
}
