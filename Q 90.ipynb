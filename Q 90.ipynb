{
 "cells": [
  {
   "cell_type": "code",
   "execution_count": 5,
   "id": "6797809a",
   "metadata": {},
   "outputs": [
    {
     "name": "stdout",
     "output_type": "stream",
     "text": [
      "(1, 'a', True)\n",
      "(1, 'a', False)\n",
      "(1, 'b', True)\n",
      "(1, 'b', False)\n",
      "(1, 'c', True)\n",
      "(1, 'c', False)\n",
      "(2, 'a', True)\n",
      "(2, 'a', False)\n",
      "(2, 'b', True)\n",
      "(2, 'b', False)\n",
      "(2, 'c', True)\n",
      "(2, 'c', False)\n"
     ]
    }
   ],
   "source": [
    "# 90. Given an arbitrary number of vectors, build the cartesian product \n",
    "#(every combinations of every item)\n",
    "\n",
    "from itertools import product\n",
    "\n",
    "# Define your vectors (lists) here\n",
    "vector1 = [1, 2]\n",
    "vector2 = ['a', 'b', 'c']\n",
    "vector3 = [True, False]\n",
    "\n",
    "cartesian_product = list(product(vector1, vector2, vector3))\n",
    "\n",
    "for item in cartesian_product:\n",
    "    print(item)\n"
   ]
  },
  {
   "cell_type": "code",
   "execution_count": null,
   "id": "1be2e7f3",
   "metadata": {},
   "outputs": [],
   "source": []
  }
 ],
 "metadata": {
  "kernelspec": {
   "display_name": "Python 3 (ipykernel)",
   "language": "python",
   "name": "python3"
  },
  "language_info": {
   "codemirror_mode": {
    "name": "ipython",
    "version": 3
   },
   "file_extension": ".py",
   "mimetype": "text/x-python",
   "name": "python",
   "nbconvert_exporter": "python",
   "pygments_lexer": "ipython3",
   "version": "3.10.9"
  }
 },
 "nbformat": 4,
 "nbformat_minor": 5
}
