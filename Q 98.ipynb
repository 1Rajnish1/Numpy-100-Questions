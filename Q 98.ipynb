{
 "cells": [
  {
   "cell_type": "code",
   "execution_count": 14,
   "id": "3697eeba",
   "metadata": {},
   "outputs": [
    {
     "name": "stdout",
     "output_type": "stream",
     "text": [
      "Equidistant Sampled Points:\n",
      "[[0.         0.        ]\n",
      " [0.55555556 0.27777778]\n",
      " [1.11111111 0.55555556]\n",
      " [1.66666667 0.83333333]\n",
      " [2.22222222 1.11111111]\n",
      " [2.77777778 1.38888889]\n",
      " [3.33333333 1.66666667]\n",
      " [3.88888889 1.94444444]\n",
      " [4.44444444 2.22222222]\n",
      " [5.         2.5       ]]\n"
     ]
    }
   ],
   "source": [
    "# 98. Considering a path described by two vectors (X,Y), \n",
    "#how to sample it using equidistant samples \n",
    "\n",
    "import numpy as np\n",
    "\n",
    "# Create two vectors X and Y describing the path (replace these with your data)\n",
    "X = np.array([0, 1, 2, 3, 4, 5])\n",
    "Y = np.array([0, 0.5, 1, 1.5, 2, 2.5])\n",
    "\n",
    "# Compute the total path length\n",
    "path_lengths = np.sqrt(np.diff(X)**2 + np.diff(Y)**2)\n",
    "total_path_length = np.sum(path_lengths)\n",
    "\n",
    "\n",
    "num_samples = 10\n",
    "\n",
    "sampled_points = []\n",
    "for i in range(num_samples):\n",
    "    target_length = i * total_path_length / (num_samples - 1)\n",
    "    current_length = 0\n",
    "    for j, length in enumerate(path_lengths):\n",
    "        if current_length + length >= target_length:\n",
    "            t = (target_length - current_length) / length\n",
    "            x_sample = X[j] + t * (X[j + 1] - X[j])\n",
    "            y_sample = Y[j] + t * (Y[j + 1] - Y[j])\n",
    "            sampled_points.append([x_sample, y_sample])\n",
    "            break\n",
    "        current_length += length\n",
    "\n",
    "\n",
    "sampled_points = np.array(sampled_points)\n",
    "\n",
    "\n",
    "print(\"Equidistant Sampled Points:\")\n",
    "print(sampled_points)"
   ]
  },
  {
   "cell_type": "code",
   "execution_count": null,
   "id": "a058090f",
   "metadata": {},
   "outputs": [],
   "source": []
  }
 ],
 "metadata": {
  "kernelspec": {
   "display_name": "Python 3 (ipykernel)",
   "language": "python",
   "name": "python3"
  },
  "language_info": {
   "codemirror_mode": {
    "name": "ipython",
    "version": 3
   },
   "file_extension": ".py",
   "mimetype": "text/x-python",
   "name": "python",
   "nbconvert_exporter": "python",
   "pygments_lexer": "ipython3",
   "version": "3.10.9"
  }
 },
 "nbformat": 4,
 "nbformat_minor": 5
}
