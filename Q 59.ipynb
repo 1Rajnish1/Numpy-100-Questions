{
 "cells": [
  {
   "cell_type": "code",
   "execution_count": 5,
   "id": "745cff22",
   "metadata": {},
   "outputs": [
    {
     "name": "stdout",
     "output_type": "stream",
     "text": [
      "Original Array:\n",
      "[[3 6 2]\n",
      " [1 8 4]\n",
      " [5 7 9]]\n",
      "\n",
      "Sorted Array by Column 1\n",
      "[[3 6 2]\n",
      " [5 7 9]\n",
      " [1 8 4]]\n"
     ]
    }
   ],
   "source": [
    "## 59. How to sort an array by the nth column?\n",
    "\n",
    "import numpy as np\n",
    "\n",
    "array = np.array([[3, 6, 2],\n",
    "                  [1, 8, 4],\n",
    "                  [5, 7, 9]])\n",
    "\n",
    "n = 1\n",
    "\n",
    "sorted_indices = np.argsort(array[:, n])\n",
    "\n",
    "sorted_array = array[sorted_indices]\n",
    "\n",
    "print(\"Original Array:\")\n",
    "print(array)\n",
    "\n",
    "print(\"\\nSorted Array by Column\", n)\n",
    "print(sorted_array)\n"
   ]
  },
  {
   "cell_type": "code",
   "execution_count": null,
   "id": "25cfa5cf",
   "metadata": {},
   "outputs": [],
   "source": []
  }
 ],
 "metadata": {
  "kernelspec": {
   "display_name": "Python 3 (ipykernel)",
   "language": "python",
   "name": "python3"
  },
  "language_info": {
   "codemirror_mode": {
    "name": "ipython",
    "version": 3
   },
   "file_extension": ".py",
   "mimetype": "text/x-python",
   "name": "python",
   "nbconvert_exporter": "python",
   "pygments_lexer": "ipython3",
   "version": "3.10.9"
  }
 },
 "nbformat": 4,
 "nbformat_minor": 5
}
