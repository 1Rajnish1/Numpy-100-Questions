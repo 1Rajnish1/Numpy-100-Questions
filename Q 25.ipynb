{
 "cells": [
  {
   "cell_type": "code",
   "execution_count": 2,
   "id": "2b7cb6e1",
   "metadata": {},
   "outputs": [
    {
     "name": "stdout",
     "output_type": "stream",
     "text": [
      "[1, 2, -4, -6, -7, 9, 10]\n"
     ]
    }
   ],
   "source": [
    "#25. Given a 1D array, negate all elements which are between 3 and 8, in place.\n",
    "\n",
    "def negate_elements_between_3_and_8(arr):\n",
    "    for i in range(len(arr)):\n",
    "        if 3 <= arr[i] <= 8:\n",
    "            arr[i] = -arr[i]\n",
    "\n",
    "\n",
    "my_array = [1, 2, 4, 6, 7, 9, 10]\n",
    "negate_elements_between_3_and_8(my_array)\n",
    "print(my_array)  # Output: [1, 2, -4, -6, -7, 9, 10]\n"
   ]
  },
  {
   "cell_type": "code",
   "execution_count": null,
   "id": "ab8fbe92",
   "metadata": {},
   "outputs": [],
   "source": []
  }
 ],
 "metadata": {
  "kernelspec": {
   "display_name": "Python 3 (ipykernel)",
   "language": "python",
   "name": "python3"
  },
  "language_info": {
   "codemirror_mode": {
    "name": "ipython",
    "version": 3
   },
   "file_extension": ".py",
   "mimetype": "text/x-python",
   "name": "python",
   "nbconvert_exporter": "python",
   "pygments_lexer": "ipython3",
   "version": "3.10.9"
  }
 },
 "nbformat": 4,
 "nbformat_minor": 5
}
