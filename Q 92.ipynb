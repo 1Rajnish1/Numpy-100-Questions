{
 "cells": [
  {
   "cell_type": "code",
   "execution_count": 5,
   "id": "f7c3ab1c",
   "metadata": {},
   "outputs": [
    {
     "name": "stdout",
     "output_type": "stream",
     "text": [
      "Method 1: Using NumPy's Element-wise Operation\n",
      "[  1   8  27  64 125]\n"
     ]
    }
   ],
   "source": [
    "# 92. Consider a large vector Z, compute Z to the power of 3 using 3 different methods\n",
    "\n",
    "import numpy as np\n",
    "\n",
    "Z = np.array([1, 2, 3, 4, 5])\n",
    "\n",
    "Z_cubed = Z**3\n",
    "\n",
    "print(\"Method 1: Using NumPy's Element-wise Operation\")\n",
    "print(Z_cubed)"
   ]
  },
  {
   "cell_type": "code",
   "execution_count": null,
   "id": "5959eed3",
   "metadata": {},
   "outputs": [],
   "source": []
  }
 ],
 "metadata": {
  "kernelspec": {
   "display_name": "Python 3 (ipykernel)",
   "language": "python",
   "name": "python3"
  },
  "language_info": {
   "codemirror_mode": {
    "name": "ipython",
    "version": 3
   },
   "file_extension": ".py",
   "mimetype": "text/x-python",
   "name": "python",
   "nbconvert_exporter": "python",
   "pygments_lexer": "ipython3",
   "version": "3.10.9"
  }
 },
 "nbformat": 4,
 "nbformat_minor": 5
}
