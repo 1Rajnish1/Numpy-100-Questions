{
 "cells": [
  {
   "cell_type": "code",
   "execution_count": 9,
   "id": "190b3a1b",
   "metadata": {},
   "outputs": [
    {
     "name": "stdout",
     "output_type": "stream",
     "text": [
      "Resulting Array:\n",
      "[[1 2 3]\n",
      " [2 3 4]\n",
      " [3 4 5]]\n"
     ]
    }
   ],
   "source": [
    "# 76. Consider a one-dimensional array Z,\n",
    "#build a two-dimensional array whose first row is (Z[0],Z[1],Z[2]) and \n",
    "#each subsequent row is  shifted by 1 (last row should be (Z[-3],Z[-2],Z[-1])\n",
    "\n",
    "import numpy as np\n",
    "\n",
    "Z = np.array([1, 2, 3, 4, 5])\n",
    "\n",
    "num_rows = len(Z) - 2  \n",
    "row_size = 3  \n",
    "\n",
    "result = np.empty((num_rows, row_size), dtype=Z.dtype)\n",
    "\n",
    "for i in range(num_rows):\n",
    "    result[i] = Z[i:i + row_size]\n",
    "\n",
    "print(\"Resulting Array:\")\n",
    "print(result)\n"
   ]
  },
  {
   "cell_type": "code",
   "execution_count": null,
   "id": "f33f1168",
   "metadata": {},
   "outputs": [],
   "source": []
  }
 ],
 "metadata": {
  "kernelspec": {
   "display_name": "Python 3 (ipykernel)",
   "language": "python",
   "name": "python3"
  },
  "language_info": {
   "codemirror_mode": {
    "name": "ipython",
    "version": 3
   },
   "file_extension": ".py",
   "mimetype": "text/x-python",
   "name": "python",
   "nbconvert_exporter": "python",
   "pygments_lexer": "ipython3",
   "version": "3.10.9"
  }
 },
 "nbformat": 4,
 "nbformat_minor": 5
}
