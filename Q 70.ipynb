{
 "cells": [
  {
   "cell_type": "code",
   "execution_count": 12,
   "id": "bd950f5b",
   "metadata": {},
   "outputs": [
    {
     "name": "stdout",
     "output_type": "stream",
     "text": [
      "New Vector: [1 0 0 0 2 0 0 0 3 0 0 0 4 0 0 0 5]\n"
     ]
    }
   ],
   "source": [
    "# 70. Consider the vector [1, 2, 3, 4, 5], how to build a new vector with 3 consecutive zeros interleaved between each value?\n",
    "\n",
    "import numpy as np\n",
    "\n",
    "original_vector = np.array([1, 2, 3, 4, 5])\n",
    "\n",
    "consecutive_zeros = 3\n",
    "\n",
    "new_size = len(original_vector) + (len(original_vector) - 1) * consecutive_zeros\n",
    "\n",
    "new_vector = np.zeros(new_size, dtype=original_vector.dtype)\n",
    "\n",
    "new_vector[::consecutive_zeros + 1] = original_vector\n",
    "\n",
    "print(\"New Vector:\", new_vector)\n"
   ]
  },
  {
   "cell_type": "code",
   "execution_count": null,
   "id": "44d79013",
   "metadata": {},
   "outputs": [],
   "source": []
  }
 ],
 "metadata": {
  "kernelspec": {
   "display_name": "Python 3 (ipykernel)",
   "language": "python",
   "name": "python3"
  },
  "language_info": {
   "codemirror_mode": {
    "name": "ipython",
    "version": 3
   },
   "file_extension": ".py",
   "mimetype": "text/x-python",
   "name": "python",
   "nbconvert_exporter": "python",
   "pygments_lexer": "ipython3",
   "version": "3.10.9"
  }
 },
 "nbformat": 4,
 "nbformat_minor": 5
}
