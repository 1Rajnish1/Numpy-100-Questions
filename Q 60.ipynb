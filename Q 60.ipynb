{
 "cells": [
  {
   "cell_type": "code",
   "execution_count": 2,
   "id": "f3c1a308",
   "metadata": {},
   "outputs": [
    {
     "name": "stdout",
     "output_type": "stream",
     "text": [
      "The array does not have null columns.\n"
     ]
    }
   ],
   "source": [
    "# 60. How to tell if a given 2D array has null columns?\n",
    "\n",
    "import numpy as np\n",
    "\n",
    "array = np.array([[0, 1, 2],\n",
    "                  [0, 0, 0],\n",
    "                  [3, 0, 4]])\n",
    "\n",
    "null_columns = np.all(array == 0, axis=0)\n",
    "\n",
    "if np.any(null_columns):\n",
    "    print(\"The array has null columns.\")\n",
    "else:\n",
    "    print(\"The array does not have null columns.\")"
   ]
  },
  {
   "cell_type": "code",
   "execution_count": null,
   "id": "3d13f624",
   "metadata": {},
   "outputs": [],
   "source": []
  }
 ],
 "metadata": {
  "kernelspec": {
   "display_name": "Python 3 (ipykernel)",
   "language": "python",
   "name": "python3"
  },
  "language_info": {
   "codemirror_mode": {
    "name": "ipython",
    "version": 3
   },
   "file_extension": ".py",
   "mimetype": "text/x-python",
   "name": "python",
   "nbconvert_exporter": "python",
   "pygments_lexer": "ipython3",
   "version": "3.10.9"
  }
 },
 "nbformat": 4,
 "nbformat_minor": 5
}
