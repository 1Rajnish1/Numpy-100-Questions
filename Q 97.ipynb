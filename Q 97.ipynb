{
 "cells": [
  {
   "cell_type": "code",
   "execution_count": 11,
   "id": "2f00a855",
   "metadata": {},
   "outputs": [
    {
     "name": "stdout",
     "output_type": "stream",
     "text": [
      "Inner (Dot) Product: 32\n",
      "Outer Product:\n",
      "[[ 4  5  6]\n",
      " [ 8 10 12]\n",
      " [12 15 18]]\n",
      "Summation: 6\n",
      "Element-wise Multiplication:\n",
      "[ 4 10 18]\n"
     ]
    }
   ],
   "source": [
    "# 97. Considering 2 vectors A & B, write the einsum equivalent of inner, \n",
    "#outer, sum, and mul function\n",
    "\n",
    "import numpy as np\n",
    "\n",
    "A = np.array([1, 2, 3])\n",
    "B = np.array([4, 5, 6])\n",
    "\n",
    "# Equivalent einsum for inner (dot) product\n",
    "inner_product = np.einsum('i,i->', A, B)\n",
    "print(\"Inner (Dot) Product:\", inner_product)\n",
    "\n",
    "# Equivalent einsum for outer product\n",
    "outer_product = np.einsum('i,j->ij', A, B)\n",
    "print(\"Outer Product:\")\n",
    "print(outer_product)\n",
    "\n",
    "# Equivalent einsum for summation (sum)\n",
    "summation = np.einsum('i->', A)\n",
    "print(\"Summation:\", summation)\n",
    "\n",
    "# Equivalent einsum for element-wise multiplication\n",
    "elementwise_multiplication = np.einsum('i,i->i', A, B)\n",
    "print(\"Element-wise Multiplication:\")\n",
    "print(elementwise_multiplication)\n",
    "\n"
   ]
  },
  {
   "cell_type": "code",
   "execution_count": null,
   "id": "88374739",
   "metadata": {},
   "outputs": [],
   "source": []
  }
 ],
 "metadata": {
  "kernelspec": {
   "display_name": "Python 3 (ipykernel)",
   "language": "python",
   "name": "python3"
  },
  "language_info": {
   "codemirror_mode": {
    "name": "ipython",
    "version": 3
   },
   "file_extension": ".py",
   "mimetype": "text/x-python",
   "name": "python",
   "nbconvert_exporter": "python",
   "pygments_lexer": "ipython3",
   "version": "3.10.9"
  }
 },
 "nbformat": 4,
 "nbformat_minor": 5
}
