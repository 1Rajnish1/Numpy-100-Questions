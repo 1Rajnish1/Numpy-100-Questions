{
 "cells": [
  {
   "cell_type": "code",
   "execution_count": 7,
   "id": "8d47c6c4",
   "metadata": {},
   "outputs": [
    {
     "name": "stdout",
     "output_type": "stream",
     "text": [
      "Unique Line Segments:\n",
      "(3, 4)\n",
      "(4, 6)\n",
      "(5, 7)\n",
      "(8, 9)\n",
      "(1, 3)\n",
      "(1, 9)\n",
      "(6, 8)\n",
      "(4, 5)\n",
      "(5, 6)\n",
      "(9, 10)\n",
      "(2, 4)\n",
      "(1, 2)\n",
      "(2, 10)\n",
      "(7, 9)\n",
      "(6, 7)\n",
      "(3, 5)\n",
      "(8, 10)\n",
      "(2, 3)\n",
      "(1, 10)\n",
      "(7, 8)\n"
     ]
    }
   ],
   "source": [
    "# 73. Consider a set of 10 triplets describing 10 triangles (with shared vertices), find the set of unique line segments composing all the  triangles\n",
    "\n",
    "import numpy as np\n",
    "\n",
    "\n",
    "triangles = np.array([\n",
    "    [1, 2, 3],\n",
    "    [2, 3, 4],\n",
    "    [3, 4, 5],\n",
    "    [4, 5, 6],\n",
    "    [5, 6, 7],\n",
    "    [6, 7, 8],\n",
    "    [7, 8, 9],\n",
    "    [8, 9, 10],\n",
    "    [9, 10, 1],\n",
    "    [10, 1, 2]\n",
    "])\n",
    "\n",
    "\n",
    "line_segments = set()\n",
    "\n",
    "\n",
    "for triangle in triangles:\n",
    "    for i in range(3):\n",
    "        line_segment = tuple(sorted([triangle[i], triangle[(i + 1) % 3]]))\n",
    "        line_segments.add(line_segment)\n",
    "\n",
    "\n",
    "unique_line_segments = list(line_segments)\n",
    "\n",
    "print(\"Unique Line Segments:\")\n",
    "for segment in unique_line_segments:\n",
    "    print(segment)\n"
   ]
  },
  {
   "cell_type": "code",
   "execution_count": null,
   "id": "c49963db",
   "metadata": {},
   "outputs": [],
   "source": []
  }
 ],
 "metadata": {
  "kernelspec": {
   "display_name": "Python 3 (ipykernel)",
   "language": "python",
   "name": "python3"
  },
  "language_info": {
   "codemirror_mode": {
    "name": "ipython",
    "version": 3
   },
   "file_extension": ".py",
   "mimetype": "text/x-python",
   "name": "python",
   "nbconvert_exporter": "python",
   "pygments_lexer": "ipython3",
   "version": "3.10.9"
  }
 },
 "nbformat": 4,
 "nbformat_minor": 5
}
