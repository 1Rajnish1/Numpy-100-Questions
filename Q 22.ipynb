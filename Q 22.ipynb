{
 "cells": [
  {
   "cell_type": "code",
   "execution_count": 1,
   "id": "db2d54c5",
   "metadata": {},
   "outputs": [
    {
     "name": "stdout",
     "output_type": "stream",
     "text": [
      "Original Matrix:\n",
      "[[0.01707424 0.69004326 0.80905251 0.92193778 0.74999894]\n",
      " [0.56765154 0.52404692 0.51434323 0.73275354 0.44809441]\n",
      " [0.44365732 0.3350243  0.90364135 0.46053699 0.29794512]\n",
      " [0.32499866 0.6031735  0.69083195 0.7062089  0.41774976]\n",
      " [0.41559786 0.72792615 0.08364517 0.73651693 0.1708666 ]]\n",
      "\n",
      "Normalized Matrix:\n",
      "[[-2.17342954  0.66855389  1.1711362   1.64785661  0.92174989]\n",
      " [ 0.15168723 -0.03245737 -0.07343654  0.84892163 -0.35320879]\n",
      " [-0.37194683 -0.8307098   1.57058982 -0.30066311 -0.98729712]\n",
      " [-0.87304861  0.30169835  0.67188457  0.73682223 -0.48135582]\n",
      " [-0.49044344  0.82853531 -1.89229705  0.86481466 -1.52395637]]\n"
     ]
    }
   ],
   "source": [
    "#22. Normalize a 5x5 random matrix\n",
    "\n",
    "import numpy as np\n",
    "\n",
    "\n",
    "random_matrix = np.random.rand(5, 5)\n",
    "\n",
    "mean_value = np.mean(random_matrix)\n",
    "std_deviation = np.std(random_matrix)\n",
    "\n",
    "normalized_matrix = (random_matrix - mean_value) / std_deviation\n",
    "\n",
    "print(\"Original Matrix:\")\n",
    "print(random_matrix)\n",
    "print(\"\\nNormalized Matrix:\")\n",
    "print(normalized_matrix)\n"
   ]
  },
  {
   "cell_type": "code",
   "execution_count": null,
   "id": "05207d1d",
   "metadata": {},
   "outputs": [],
   "source": []
  }
 ],
 "metadata": {
  "kernelspec": {
   "display_name": "Python 3 (ipykernel)",
   "language": "python",
   "name": "python3"
  },
  "language_info": {
   "codemirror_mode": {
    "name": "ipython",
    "version": 3
   },
   "file_extension": ".py",
   "mimetype": "text/x-python",
   "name": "python",
   "nbconvert_exporter": "python",
   "pygments_lexer": "ipython3",
   "version": "3.10.9"
  }
 },
 "nbformat": 4,
 "nbformat_minor": 5
}
