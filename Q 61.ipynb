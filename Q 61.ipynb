{
 "cells": [
  {
   "cell_type": "code",
   "execution_count": 6,
   "id": "74f98069",
   "metadata": {},
   "outputs": [
    {
     "name": "stdout",
     "output_type": "stream",
     "text": [
      "Original Array: [ 1  4  7 10 13 16]\n",
      "Given Value: 9\n",
      "Nearest Value: 10\n"
     ]
    }
   ],
   "source": [
    "# 61. Find the nearest value from a given value in an array\n",
    "\n",
    "import numpy as np\n",
    "\n",
    "array = np.array([1, 4, 7, 10, 13, 16])\n",
    "\n",
    "given_value = 9\n",
    "\n",
    "absolute_differences = np.abs(array - given_value)\n",
    "\n",
    "nearest_index = np.argmin(absolute_differences)\n",
    "\n",
    "nearest_value = array[nearest_index]\n",
    "\n",
    "print(\"Original Array:\", array)\n",
    "print(\"Given Value:\", given_value)\n",
    "print(\"Nearest Value:\", nearest_value)\n"
   ]
  },
  {
   "cell_type": "code",
   "execution_count": null,
   "id": "6dc86b42",
   "metadata": {},
   "outputs": [],
   "source": []
  }
 ],
 "metadata": {
  "kernelspec": {
   "display_name": "Python 3 (ipykernel)",
   "language": "python",
   "name": "python3"
  },
  "language_info": {
   "codemirror_mode": {
    "name": "ipython",
    "version": 3
   },
   "file_extension": ".py",
   "mimetype": "text/x-python",
   "name": "python",
   "nbconvert_exporter": "python",
   "pygments_lexer": "ipython3",
   "version": "3.10.9"
  }
 },
 "nbformat": 4,
 "nbformat_minor": 5
}
