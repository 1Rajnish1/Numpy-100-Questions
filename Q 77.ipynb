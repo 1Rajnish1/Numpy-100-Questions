{
 "cells": [
  {
   "cell_type": "code",
   "execution_count": 2,
   "id": "8f455269",
   "metadata": {},
   "outputs": [
    {
     "name": "stdout",
     "output_type": "stream",
     "text": [
      "Negated Boolean Value: False\n"
     ]
    }
   ],
   "source": [
    "# 77. How to negate a boolean, or to change the sign of a float inplace?\n",
    "\n",
    "boolean_value = True\n",
    "\n",
    "boolean_value = not boolean_value\n",
    "\n",
    "print(\"Negated Boolean Value:\", boolean_value)\n"
   ]
  },
  {
   "cell_type": "code",
   "execution_count": null,
   "id": "9f7139e6",
   "metadata": {},
   "outputs": [],
   "source": []
  }
 ],
 "metadata": {
  "kernelspec": {
   "display_name": "Python 3 (ipykernel)",
   "language": "python",
   "name": "python3"
  },
  "language_info": {
   "codemirror_mode": {
    "name": "ipython",
    "version": 3
   },
   "file_extension": ".py",
   "mimetype": "text/x-python",
   "name": "python",
   "nbconvert_exporter": "python",
   "pygments_lexer": "ipython3",
   "version": "3.10.9"
  }
 },
 "nbformat": 4,
 "nbformat_minor": 5
}
