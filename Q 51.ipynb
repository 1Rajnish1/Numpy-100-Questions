{
 "cells": [
  {
   "cell_type": "code",
   "execution_count": 7,
   "id": "e2a7e718",
   "metadata": {},
   "outputs": [
    {
     "name": "stdout",
     "output_type": "stream",
     "text": [
      "Structured Array:\n",
      "[((1., 2.), (255,   0,   0)) ((3., 4.), (  0, 128,   0))\n",
      " ((5., 6.), (  0,   0, 255))]\n",
      "\n",
      "Element 0:\n",
      "Position (x, y): (1., 2.)\n",
      "Color (r, g, b): (255, 0, 0)\n"
     ]
    }
   ],
   "source": [
    "# 51. Create a structured array representing a position (x,y) and a color (r,g,b)\n",
    "\n",
    "import numpy as np\n",
    "\n",
    "\n",
    "dtype = np.dtype([('position', [('x', float), ('y', float)]), ('color', [('r', int), ('g', int), ('b', int)])])\n",
    "\n",
    "\n",
    "structured_array = np.array([((1.0, 2.0), (255, 0, 0)),\n",
    "                             ((3.0, 4.0), (0, 128, 0)),\n",
    "                             ((5.0, 6.0), (0, 0, 255))], dtype=dtype)\n",
    "\n",
    "\n",
    "print(\"Structured Array:\")\n",
    "print(structured_array)\n",
    "\n",
    "\n",
    "print(\"\\nElement 0:\")\n",
    "print(\"Position (x, y):\", structured_array['position'][0])\n",
    "print(\"Color (r, g, b):\", structured_array['color'][0])\n"
   ]
  },
  {
   "cell_type": "code",
   "execution_count": null,
   "id": "58cbe750",
   "metadata": {},
   "outputs": [],
   "source": []
  }
 ],
 "metadata": {
  "kernelspec": {
   "display_name": "Python 3 (ipykernel)",
   "language": "python",
   "name": "python3"
  },
  "language_info": {
   "codemirror_mode": {
    "name": "ipython",
    "version": 3
   },
   "file_extension": ".py",
   "mimetype": "text/x-python",
   "name": "python",
   "nbconvert_exporter": "python",
   "pygments_lexer": "ipython3",
   "version": "3.10.9"
  }
 },
 "nbformat": 4,
 "nbformat_minor": 5
}
