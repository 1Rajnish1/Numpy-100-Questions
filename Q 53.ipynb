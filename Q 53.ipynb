{
 "cells": [
  {
   "cell_type": "code",
   "execution_count": 2,
   "id": "345eec69",
   "metadata": {},
   "outputs": [
    {
     "name": "stdout",
     "output_type": "stream",
     "text": [
      "Original Float Array:\n",
      "[1.23 4.56 7.89]\n",
      "\n",
      "Converted Integer Array:\n",
      "[1067282596 1083304837 1090288353]\n"
     ]
    }
   ],
   "source": [
    "# 53. How to convert a float (32 bits) array into an integer (32 bits) in place?\n",
    "\n",
    "import numpy as np\n",
    "\n",
    "float_array = np.array([1.23, 4.56, 7.89], dtype=np.float32)\n",
    "\n",
    "int_array = float_array.view(np.int32)\n",
    "\n",
    "print(\"Original Float Array:\")\n",
    "print(float_array)\n",
    "\n",
    "print(\"\\nConverted Integer Array:\")\n",
    "print(int_array)"
   ]
  },
  {
   "cell_type": "code",
   "execution_count": null,
   "id": "61e433c3",
   "metadata": {},
   "outputs": [],
   "source": []
  }
 ],
 "metadata": {
  "kernelspec": {
   "display_name": "Python 3 (ipykernel)",
   "language": "python",
   "name": "python3"
  },
  "language_info": {
   "codemirror_mode": {
    "name": "ipython",
    "version": 3
   },
   "file_extension": ".py",
   "mimetype": "text/x-python",
   "name": "python",
   "nbconvert_exporter": "python",
   "pygments_lexer": "ipython3",
   "version": "3.10.9"
  }
 },
 "nbformat": 4,
 "nbformat_minor": 5
}
